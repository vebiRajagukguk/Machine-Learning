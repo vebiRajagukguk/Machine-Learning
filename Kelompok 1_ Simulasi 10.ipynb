{
  "cells": [
    {
      "cell_type": "markdown",
      "metadata": {
        "id": "gE48-jloHxwi",
        "tags": []
      },
      "source": [
        "# 1. Pendahuluan\n",
        "\n",
        "KNN termasuk salah satu algoritma tertua dalam ilmu machine learning, yang pertama kali diusulkan pada tahun [1951](https://apps.dtic.mil/dtic/tr/fulltext/u2/a800276.pdf) oleh  Evelyn Fix dan Joseph Hodges. KNN merupakan model non-parametrik yang dapat digunakan sebagai model **klasifikasi** dan juga model **regresi**. Prinsip yang digunakan untuk kedua kasus tersebut sama, yaitu dengan mengambil sejumlah `k` data di set data training yang **mirip** atau **dekat** dengan data baru. `k` data tersebut digunakan untuk menghitung luaran dari model. Perbedaan antara kedua kasus tersebut adalah pada **luaran**nya:\n",
        "\n",
        "* Luaran pada kasus klasifikasi adalah **kelas/label** dari data yang baru. Untuk kasus ini, kita bisa menggunakan **majority label** `k`-data yang paling dekat dengan data baru tersebut.\n",
        "* Luaran pada kasus regresi adalah **bilangan real** yang bisa dihitung dengan melakukan **rata-rata** dari `k`-data yang paling dekat dengan data baru."
      ]
    },
    {
      "cell_type": "markdown",
      "metadata": {
        "id": "6lLw_YR9LyYE",
        "tags": []
      },
      "source": [
        "---\n",
        "\n",
        "## 1.1. KNN Sebagai model non-parametrik "
      ]
    },
    {
      "cell_type": "markdown",
      "metadata": {
        "id": "yySde-ZDFj6S"
      },
      "source": [
        "Berdasarkan parameternya, model dapat digolongkan dalam 2, yaitu parametrik dan non-parametrik. Dalam model **parametrik**, jumlah parameternya tetap. Sebagai contoh dalam *linear regression* terdapat parameter $w$ yang jumlahnya tetap berapapun jumlah sampel yang kita punya. Sedangkan dalam model **non-parametrik**, parameternya bertambah seiring dengan jumlah sampel yang kita punya. Berikut adalah perbedaan dari kedua tipe tersebut:\n",
        "\n",
        "Model Parametrik:\n",
        "- Komputasi ringan dan cepat digunakan karena sebanyak apapun data yang kita punya, parameter yang digunakan jumlahnya tetap.\n",
        "- Hal ini mengindikasikan bahwa model parametrik memberikan asumsi pada distribusi datanya dengan parameter yang berjumlah tetap tersebut. \n",
        "- Karena parameternya berjumlah tetap, dengan data yang tidak terdapat batasan pada jumlah dan variasinya, model parametrik tidak terlalu fleksibel karena memiliki asumsi yang cukup kuat terhadap data.\n",
        "\n",
        "\n",
        "Model Non-parametrik:\n",
        "- Lebih fleksibel karena jumlah parameter bertambah seiring jumlah sampel yang kita punya.\n",
        "- Hal ini mengindikasikan bahwa model tidak memiliki asumsi pada distribusi data kasus yang kita modelkan. Dengan kata lain, struktur modelnya ditentukan oleh data yang kita punya. \n",
        "- Namun, hal ini menyebabkan pelambatan yang cukup signifikan pada sampel yang besar.\n",
        "\n",
        "Berikut adalah beberapa contoh penggolongan model ( [Machine Learning a Probabilistic Perspective](https://probml.github.io/pml-book/book0.html) ):\n",
        "\n",
        "<img src=\"https://i.stack.imgur.com/Y34LY.png\" width= 700px;/>\n",
        "\n",
        "KNN merupakan model non-parametrik, yang struktur modelnya ditentukan oleh data training yang kita gunakan. Saat melakukan pengujian pada data baru, semua data latih akan dievaluasi (dihitung jaraknya terhadap data uji). Sehingga data latih disini adalah parameter yang bertambah jumlahnya seiring banyaknya sampel."
      ]
    },
    {
      "cell_type": "markdown",
      "metadata": {
        "id": "KXV7CFQyRHrP",
        "tags": []
      },
      "source": [
        "---\n",
        "\n",
        "## 1.2. *Pseudo code* dan Ekspresi Matematis\n",
        "\n",
        "Secara umum, *pseudo code* KNN untuk klasifikasi bisa ditulis sebagai berikut ([Prasath et al, 2019](https://arxiv.org/pdf/1708.04321.pdf)):\n",
        "\n",
        "```\n",
        "Input: Training samples D, Test sample d, K\n",
        "Output: Class label of test sample\n",
        "1: Compute the distance between d and every sample in D\n",
        "2: Choose the K samples in D that are nearest to d; denote the set by S_x\n",
        "3: Assign d the class it that is the most frequent class (or the majority class) of S_x\n",
        "```\n",
        "\n",
        "Set $S_x$ beranggotakan `k` titik yang paling dekat dengan data kita. Setelah kita mendapatkan $S_x$, luaran untuk **klasifikasi** bisa ditentukan dengan:\n",
        "\n",
        "$$\n",
        "h(\\mathbf{x})=\\operatorname{mode}\\left(\\left\\{y^{\\prime \\prime}:\\left(\\mathbf{x}^{\\prime \\prime}, y^{\\prime \\prime}\\right) \\in S_{\\mathbf{x}}\\right\\}\\right)\n",
        "$$\n",
        "\n",
        "sesuai dengan langkah ke-3 di atas. Sedangkan untuk kasus **regresi**, kita ganti dengan menghitung rata-rata dari $S_x$ sebagai berikut:\n",
        "\n",
        "$$\n",
        "h(\\mathbf{x})=\\operatorname{mean}\\left(\\left\\{y^{\\prime \\prime}:\\left(\\mathbf{x}^{\\prime \\prime}, y^{\\prime \\prime}\\right) \\in S_{\\mathbf{x}}\\right\\}\\right)\n",
        "$$"
      ]
    },
    {
      "cell_type": "markdown",
      "metadata": {
        "id": "u90VxTWWLvE8",
        "tags": []
      },
      "source": [
        "---\n",
        "\n",
        "## 1.3. Mengukur Kedekatan atau Kemiripan\n",
        "\n",
        "Algoritma KNN berangkat dari suatu asumsi yaitu:\n",
        "\n",
        "> **Point data yang mirip memiliki label yang sama**\n",
        "\n",
        "Kita dapat mengukur **kemiripan** ini dengan jarak yang dapat dihitung menggunakan metrik jarak (**distance metric**). Metrik jarak merupakan komponen paling esensial dalam KNN. Jika jarak yang digunakan tidak sesuai dengan kasus atau data yang kita miliki maka performa KNN tidak akan baik pula.  \n",
        "\n",
        "Secara matematis, metrik jarak harus memenuhi kondisi berikut:\n",
        "\n",
        "1. Non-negativity: $\\operatorname{dist}(\\mathbf{x},\\mathbf{z})\\geq0$\n",
        "2. Identity: $\\operatorname{dist}(\\mathbf{x},\\mathbf{z})=0$, jika dan hanya jika $\\mathbf{x}=\\mathbf{z}$\n",
        "3. Symmetry: $\\operatorname{dist}(\\mathbf{x},\\mathbf{z}) = \\operatorname{dist}(\\mathbf{z},\\mathbf{x})$\n",
        "4. Triangle inequality: $\\operatorname{dist}(\\mathbf{x},\\mathbf{y})+\\operatorname{dist}(\\mathbf{y},\\mathbf{z}) \\geq \\operatorname{dist}(\\mathbf{x},\\mathbf{z})$\n",
        "\n",
        "### Minkowski Distance\n",
        "\n",
        "Salah satu metrik yang sering digunakan adalah **Minkowski Distance**:\n",
        "\n",
        "$$\n",
        "\\operatorname{dist}(\\mathbf{x}, \\mathbf{z})=\\left(\\sum_{r=1}^{d}\\left|x_{r}-z_{r}\\right|^{p}\\right)^{1 / p}\n",
        "$$\n",
        "\n",
        "Minkowski Distance ini merupakan generalisasi dari beberapa metrik jarak, antara lain:  \n",
        "**Manhattan distance** saat $p = 1$,  \n",
        "**Euclidean distance** ketika $p = 2$, dan  \n",
        "**max difference** saat $p = \\infty$."
      ]
    },
    {
      "cell_type": "markdown",
      "metadata": {
        "id": "jqpFEvBHTCcW"
      },
      "source": [
        "\n",
        "### Manhattan distance\n",
        "\n",
        "$$\n",
        "\\operatorname{dist}(\\mathbf{x}, \\mathbf{x'})=\\sum_{i=1}^{n}\\left|\\mathbf{x}_{i}-\\mathbf{x}'_{i}\\right|\n",
        "$$\n",
        "\n",
        "*Manhattan distance* mengukur jarak dengan menghitung ruas garis di **tiap koordinat** antar dua titik. Bayangkan cara gerak Benteng pada permainan catur. *Manhattan distance* mengukur jarak terpendek dari dua titik menggunakan cara gerak Benteng. *Manhattan distance* lebih **tidak** sensitif terhadap *outliers* dibanding *Euclidean distance*. Beberapa kasus lebih cocok menggunakan *Manhattan distance*, contohnya jarak ditentukan berapa banyak petak tanah pada jarak perumahan."
      ]
    },
    {
      "cell_type": "markdown",
      "metadata": {
        "id": "-lMFXOdoTBvu"
      },
      "source": [
        "### Euclidean distance\n",
        "$$\n",
        "\\operatorname{dist}(\\mathbf{x}, \\mathbf{x'})=\\sqrt{\\sum_{i=1}^{n}\\left(\\mathbf{x}_{i}-\\mathbf{x}'_{i}\\right)^{2}}\n",
        "$$\n",
        "\n",
        "*Euclidean distance* adalah metrik jarak untuk mengukur jarak ruas garis antar dua titik. Metrik ini selaras dengan bagimana manusia mempresepsikan jarak di alam (teorema *Pythagoras*). Metrik ini lebih sensitif terhadap *outliers* dibandingkan dengan *Manhattan distance* karena memiliki $p$ yang lebih besar. *Euclidean distance* dapat bekerja dengan sangat baik jika data kita terdistribusi normal dan memiliki sedikit *outliers*."
      ]
    },
    {
      "cell_type": "markdown",
      "metadata": {
        "id": "ZKB8Jf3a6a7G"
      },
      "source": [
        "### Max Difference atau Chebyshev distance\n",
        "$$\n",
        "\\operatorname{dist}(\\mathbf{x},\\mathbf{x}')=\\max _{i}\\left|\\mathbf{x}_{i}-\\mathbf{x}'_{i}\\right|\n",
        "$$\n",
        "Saat $p=\\infty$, *Minkowski distance* sama dengan *max difference* atau disebut juga *Chebyshev distance*. Metrik ini mengukur selisih maksimum diantara tiap koordinat antar dua titik. Kasus yang cocok untuk *Chebyshev distance* misalkan untuk mengukur waktu yang diperlukan *overhead crane* di gudang logistik untuk memindahkan barang (*crane* dapat bergerak pada koordinat x dan y secara bersamaan)."
      ]
    },
    {
      "cell_type": "markdown",
      "metadata": {
        "id": "paIiSJiav8aP"
      },
      "source": [
        "Metrik jarak lain beserta performanya dapat dilihat di referensi berikut ini: ([Prasath et al, 2019](https://arxiv.org/pdf/1708.04321.pdf))"
      ]
    },
    {
      "cell_type": "markdown",
      "metadata": {
        "tags": [],
        "id": "sFQPiRVzv8aR"
      },
      "source": [
        "# Pertanyaan:\n",
        "Mengapa *Minkowski distance* dapat dikatakan sebagai generalisasi dari *Manhattan distance*, *Eucledian distance*, dan *max difference* ?"
      ]
    },
    {
      "cell_type": "markdown",
      "metadata": {
        "id": "-wiDuukQv8aS"
      },
      "source": [
        "# Jawab:\n",
        "Minkowski distance dapat dikatakan sebagai generalisasi dari Manhattan distance, Euclidean distance, dan max difference karena dapat mencakup semua metrik tersebut dengan memilih nilai yang tepat untuk parameter Minkowski.Manhattan Distance yaitu jumlah absolut dari perbedaan antara koordinat titik pada sumbu yang sesuai, Euclidean Distance yaitu jarak paling pendek antara dua titik dalam ruang Euclidean, Max Difference yaitu perbedaan absolut terbesar antara koordinat titik pada sumbu yang sesuai.  \n",
        "\n"
      ]
    },
    {
      "cell_type": "markdown",
      "metadata": {
        "id": "5iObHCRERUCg"
      },
      "source": [
        "---\n",
        "## 1.4. Pengaruh nilai K\n",
        "\n",
        "Secara umum algoritma KNN untuk klasifikasi dapat divisualisasikan sebagai berikut:\n",
        "\n",
        "<img src=\"https://upload.wikimedia.org/wikipedia/commons/e/e7/KnnClassification.svg\" width= 500px;/>\n"
      ]
    },
    {
      "cell_type": "markdown",
      "metadata": {
        "id": "ffpBLRWySf6k",
        "tags": []
      },
      "source": [
        "Nilai K pada KNN cukup sensitif terhadap hasil klasifikasi."
      ]
    },
    {
      "cell_type": "markdown",
      "metadata": {
        "tags": [],
        "id": "6Hazhl0Kv8aU"
      },
      "source": [
        "# Pertanyaan:\n",
        "1. Dari gambar di atas, apa prediksi label titik hijau jika K=3?\n",
        "2. Apa yang terjadi saat K=5?"
      ]
    },
    {
      "cell_type": "markdown",
      "metadata": {
        "id": "xAJMLwlWv8aV"
      },
      "source": [
        "# Jawab:\n",
        "1. jika K = 3 biru\n",
        "2.  jika K = 5 merah"
      ]
    },
    {
      "cell_type": "markdown",
      "metadata": {
        "id": "TbGmrhdZv8aW"
      },
      "source": [
        "---\n",
        "\n",
        "# 2. Contoh Code"
      ]
    },
    {
      "cell_type": "markdown",
      "metadata": {
        "id": "iMn52fYEIA2a",
        "tags": []
      },
      "source": [
        "Sebagai contoh untuk memberikan gambaran lebih jauh, kita gunakan dataset `ushape` yang memiliki input 2 dimensi, yaitu **x1** dan **x2**, serta outpu 1 dimensi, yaitu **y** yang bernilai 1 atau 0 (*binary classification problem*)."
      ]
    },
    {
      "cell_type": "code",
      "execution_count": 1,
      "metadata": {
        "id": "fckiyGXOv8aX"
      },
      "outputs": [],
      "source": [
        "# Load libraries \n",
        "import numpy as np\n",
        "import pandas as pd\n",
        "import seaborn as sns\n",
        "import matplotlib.pyplot as plt\n",
        "\n",
        "%matplotlib inline\n",
        "#sns.set(style='whitegrid', context='notebook')\n",
        "plt.rcParams['figure.figsize'] = (10, 7)"
      ]
    },
    {
      "cell_type": "code",
      "execution_count": 30,
      "metadata": {
        "colab": {
          "base_uri": "https://localhost:8080/",
          "height": 206
        },
        "id": "oKg8SI67IWFU",
        "outputId": "6a4e9399-ef20-4eab-bcb7-66218e8e3eaf"
      },
      "outputs": [
        {
          "output_type": "execute_result",
          "data": {
            "text/plain": [
              "         x1        x2    y\n",
              "0  0.031595  0.986988  0.0\n",
              "1  2.115098 -0.046244  1.0\n",
              "2  0.882490 -0.075756  0.0\n",
              "3 -0.055144 -0.037332  1.0\n",
              "4  0.829545 -0.539321  1.0"
            ],
            "text/html": [
              "\n",
              "  <div id=\"df-6987b241-c28b-434d-8523-c56222daf080\">\n",
              "    <div class=\"colab-df-container\">\n",
              "      <div>\n",
              "<style scoped>\n",
              "    .dataframe tbody tr th:only-of-type {\n",
              "        vertical-align: middle;\n",
              "    }\n",
              "\n",
              "    .dataframe tbody tr th {\n",
              "        vertical-align: top;\n",
              "    }\n",
              "\n",
              "    .dataframe thead th {\n",
              "        text-align: right;\n",
              "    }\n",
              "</style>\n",
              "<table border=\"1\" class=\"dataframe\">\n",
              "  <thead>\n",
              "    <tr style=\"text-align: right;\">\n",
              "      <th></th>\n",
              "      <th>x1</th>\n",
              "      <th>x2</th>\n",
              "      <th>y</th>\n",
              "    </tr>\n",
              "  </thead>\n",
              "  <tbody>\n",
              "    <tr>\n",
              "      <th>0</th>\n",
              "      <td>0.031595</td>\n",
              "      <td>0.986988</td>\n",
              "      <td>0.0</td>\n",
              "    </tr>\n",
              "    <tr>\n",
              "      <th>1</th>\n",
              "      <td>2.115098</td>\n",
              "      <td>-0.046244</td>\n",
              "      <td>1.0</td>\n",
              "    </tr>\n",
              "    <tr>\n",
              "      <th>2</th>\n",
              "      <td>0.882490</td>\n",
              "      <td>-0.075756</td>\n",
              "      <td>0.0</td>\n",
              "    </tr>\n",
              "    <tr>\n",
              "      <th>3</th>\n",
              "      <td>-0.055144</td>\n",
              "      <td>-0.037332</td>\n",
              "      <td>1.0</td>\n",
              "    </tr>\n",
              "    <tr>\n",
              "      <th>4</th>\n",
              "      <td>0.829545</td>\n",
              "      <td>-0.539321</td>\n",
              "      <td>1.0</td>\n",
              "    </tr>\n",
              "  </tbody>\n",
              "</table>\n",
              "</div>\n",
              "      <button class=\"colab-df-convert\" onclick=\"convertToInteractive('df-6987b241-c28b-434d-8523-c56222daf080')\"\n",
              "              title=\"Convert this dataframe to an interactive table.\"\n",
              "              style=\"display:none;\">\n",
              "        \n",
              "  <svg xmlns=\"http://www.w3.org/2000/svg\" height=\"24px\"viewBox=\"0 0 24 24\"\n",
              "       width=\"24px\">\n",
              "    <path d=\"M0 0h24v24H0V0z\" fill=\"none\"/>\n",
              "    <path d=\"M18.56 5.44l.94 2.06.94-2.06 2.06-.94-2.06-.94-.94-2.06-.94 2.06-2.06.94zm-11 1L8.5 8.5l.94-2.06 2.06-.94-2.06-.94L8.5 2.5l-.94 2.06-2.06.94zm10 10l.94 2.06.94-2.06 2.06-.94-2.06-.94-.94-2.06-.94 2.06-2.06.94z\"/><path d=\"M17.41 7.96l-1.37-1.37c-.4-.4-.92-.59-1.43-.59-.52 0-1.04.2-1.43.59L10.3 9.45l-7.72 7.72c-.78.78-.78 2.05 0 2.83L4 21.41c.39.39.9.59 1.41.59.51 0 1.02-.2 1.41-.59l7.78-7.78 2.81-2.81c.8-.78.8-2.07 0-2.86zM5.41 20L4 18.59l7.72-7.72 1.47 1.35L5.41 20z\"/>\n",
              "  </svg>\n",
              "      </button>\n",
              "      \n",
              "  <style>\n",
              "    .colab-df-container {\n",
              "      display:flex;\n",
              "      flex-wrap:wrap;\n",
              "      gap: 12px;\n",
              "    }\n",
              "\n",
              "    .colab-df-convert {\n",
              "      background-color: #E8F0FE;\n",
              "      border: none;\n",
              "      border-radius: 50%;\n",
              "      cursor: pointer;\n",
              "      display: none;\n",
              "      fill: #1967D2;\n",
              "      height: 32px;\n",
              "      padding: 0 0 0 0;\n",
              "      width: 32px;\n",
              "    }\n",
              "\n",
              "    .colab-df-convert:hover {\n",
              "      background-color: #E2EBFA;\n",
              "      box-shadow: 0px 1px 2px rgba(60, 64, 67, 0.3), 0px 1px 3px 1px rgba(60, 64, 67, 0.15);\n",
              "      fill: #174EA6;\n",
              "    }\n",
              "\n",
              "    [theme=dark] .colab-df-convert {\n",
              "      background-color: #3B4455;\n",
              "      fill: #D2E3FC;\n",
              "    }\n",
              "\n",
              "    [theme=dark] .colab-df-convert:hover {\n",
              "      background-color: #434B5C;\n",
              "      box-shadow: 0px 1px 3px 1px rgba(0, 0, 0, 0.15);\n",
              "      filter: drop-shadow(0px 1px 2px rgba(0, 0, 0, 0.3));\n",
              "      fill: #FFFFFF;\n",
              "    }\n",
              "  </style>\n",
              "\n",
              "      <script>\n",
              "        const buttonEl =\n",
              "          document.querySelector('#df-6987b241-c28b-434d-8523-c56222daf080 button.colab-df-convert');\n",
              "        buttonEl.style.display =\n",
              "          google.colab.kernel.accessAllowed ? 'block' : 'none';\n",
              "\n",
              "        async function convertToInteractive(key) {\n",
              "          const element = document.querySelector('#df-6987b241-c28b-434d-8523-c56222daf080');\n",
              "          const dataTable =\n",
              "            await google.colab.kernel.invokeFunction('convertToInteractive',\n",
              "                                                     [key], {});\n",
              "          if (!dataTable) return;\n",
              "\n",
              "          const docLinkHtml = 'Like what you see? Visit the ' +\n",
              "            '<a target=\"_blank\" href=https://colab.research.google.com/notebooks/data_table.ipynb>data table notebook</a>'\n",
              "            + ' to learn more about interactive tables.';\n",
              "          element.innerHTML = '';\n",
              "          dataTable['output_type'] = 'display_data';\n",
              "          await google.colab.output.renderOutput(dataTable, element);\n",
              "          const docLink = document.createElement('div');\n",
              "          docLink.innerHTML = docLinkHtml;\n",
              "          element.appendChild(docLink);\n",
              "        }\n",
              "      </script>\n",
              "    </div>\n",
              "  </div>\n",
              "  "
            ]
          },
          "metadata": {},
          "execution_count": 30
        }
      ],
      "source": [
        "# Load data\n",
        "ushapedata = pd.read_csv('https://raw.githubusercontent.com/Adityarajora/Complete-KNN-visualization/master/1.ushape.csv',\n",
        "                         names=['x1', 'x2', 'y'])\n",
        "\n",
        "# Tampilkan 5 data pertama\n",
        "ushapedata.head(5)"
      ]
    },
    {
      "cell_type": "markdown",
      "metadata": {
        "id": "d7pYEoeKIiMu"
      },
      "source": [
        "Asumsikan data baru kita adalah $(-0.2,0.7)$. Sehingga, plot data training dan data baru kita adalah sebagai berikut:"
      ]
    },
    {
      "cell_type": "code",
      "execution_count": 31,
      "metadata": {
        "colab": {
          "base_uri": "https://localhost:8080/",
          "height": 637
        },
        "id": "R0BoDaL7Juug",
        "outputId": "488ecebb-a40a-43e4-9ee9-88c287049b6c"
      },
      "outputs": [
        {
          "output_type": "display_data",
          "data": {
            "text/plain": [
              "<Axes: xlabel='x1', ylabel='x2'>"
            ]
          },
          "metadata": {}
        },
        {
          "output_type": "display_data",
          "data": {
            "text/plain": [
              "<Figure size 1000x700 with 1 Axes>"
            ],
            "image/png": "[encoded data removed]"
          },
          "metadata": {}
        }
      ],
      "source": [
        "x_new = [[-0.2, 0.7]]\n",
        "\n",
        "data_with_new_point = ushapedata.append({\"x1\":x_new[0][0],\"x2\":x_new[0][1],\"y\":\"new data\"}, ignore_index=True)\n",
        "display(sns.scatterplot(data=data_with_new_point, x=\"x1\", y=\"x2\",hue='y',palette='deep'))"
      ]
    },
    {
      "cell_type": "markdown",
      "metadata": {
        "id": "25_Ktpqxnxd5"
      },
      "source": [
        "Terdapat dua label pada ouput, yaitu 0 dan 1. Data baru kita direpresentasikan dengan titik warna hijau. Yang menjadi pertanyaan: label apakah yang akan kita berikan pada data baru tersebut? Apakah 0 atau 1?"
      ]
    },
    {
      "cell_type": "markdown",
      "metadata": {
        "id": "KcEi460PT3Pk",
        "tags": []
      },
      "source": [
        "---\n",
        "## 2.1. KNN menggunakan scikit-learn\n",
        "\n",
        "Kita lakukan klasifikasi KNN menggunakan library scikit-learn"
      ]
    },
    {
      "cell_type": "code",
      "execution_count": 32,
      "metadata": {
        "colab": {
          "base_uri": "https://localhost:8080/",
          "height": 74
        },
        "id": "UNnIVTtlR-lX",
        "outputId": "0597d9c1-35a9-495b-cc79-ab0a16ef8b91"
      },
      "outputs": [
        {
          "output_type": "execute_result",
          "data": {
            "text/plain": [
              "KNeighborsClassifier()"
            ],
            "text/html": [
              "<style>#sk-container-id-2 {color: black;background-color: white;}#sk-container-id-2 pre{padding: 0;}#sk-container-id-2 div.sk-toggleable {background-color: white;}#sk-container-id-2 label.sk-toggleable__label {cursor: pointer;display: block;width: 100%;margin-bottom: 0;padding: 0.3em;box-sizing: border-box;text-align: center;}#sk-container-id-2 label.sk-toggleable__label-arrow:before {content: \"▸\";float: left;margin-right: 0.25em;color: #696969;}#sk-container-id-2 label.sk-toggleable__label-arrow:hover:before {color: black;}#sk-container-id-2 div.sk-estimator:hover label.sk-toggleable__label-arrow:before {color: black;}#sk-container-id-2 div.sk-toggleable__content {max-height: 0;max-width: 0;overflow: hidden;text-align: left;background-color: #f0f8ff;}#sk-container-id-2 div.sk-toggleable__content pre {margin: 0.2em;color: black;border-radius: 0.25em;background-color: #f0f8ff;}#sk-container-id-2 input.sk-toggleable__control:checked~div.sk-toggleable__content {max-height: 200px;max-width: 100%;overflow: auto;}#sk-container-id-2 input.sk-toggleable__control:checked~label.sk-toggleable__label-arrow:before {content: \"▾\";}#sk-container-id-2 div.sk-estimator input.sk-toggleable__control:checked~label.sk-toggleable__label {background-color: #d4ebff;}#sk-container-id-2 div.sk-label input.sk-toggleable__control:checked~label.sk-toggleable__label {background-color: #d4ebff;}#sk-container-id-2 input.sk-hidden--visually {border: 0;clip: rect(1px 1px 1px 1px);clip: rect(1px, 1px, 1px, 1px);height: 1px;margin: -1px;overflow: hidden;padding: 0;position: absolute;width: 1px;}#sk-container-id-2 div.sk-estimator {font-family: monospace;background-color: #f0f8ff;border: 1px dotted black;border-radius: 0.25em;box-sizing: border-box;margin-bottom: 0.5em;}#sk-container-id-2 div.sk-estimator:hover {background-color: #d4ebff;}#sk-container-id-2 div.sk-parallel-item::after {content: \"\";width: 100%;border-bottom: 1px solid gray;flex-grow: 1;}#sk-container-id-2 div.sk-label:hover label.sk-toggleable__label {background-color: #d4ebff;}#sk-container-id-2 div.sk-serial::before {content: \"\";position: absolute;border-left: 1px solid gray;box-sizing: border-box;top: 0;bottom: 0;left: 50%;z-index: 0;}#sk-container-id-2 div.sk-serial {display: flex;flex-direction: column;align-items: center;background-color: white;padding-right: 0.2em;padding-left: 0.2em;position: relative;}#sk-container-id-2 div.sk-item {position: relative;z-index: 1;}#sk-container-id-2 div.sk-parallel {display: flex;align-items: stretch;justify-content: center;background-color: white;position: relative;}#sk-container-id-2 div.sk-item::before, #sk-container-id-2 div.sk-parallel-item::before {content: \"\";position: absolute;border-left: 1px solid gray;box-sizing: border-box;top: 0;bottom: 0;left: 50%;z-index: -1;}#sk-container-id-2 div.sk-parallel-item {display: flex;flex-direction: column;z-index: 1;position: relative;background-color: white;}#sk-container-id-2 div.sk-parallel-item:first-child::after {align-self: flex-end;width: 50%;}#sk-container-id-2 div.sk-parallel-item:last-child::after {align-self: flex-start;width: 50%;}#sk-container-id-2 div.sk-parallel-item:only-child::after {width: 0;}#sk-container-id-2 div.sk-dashed-wrapped {border: 1px dashed gray;margin: 0 0.4em 0.5em 0.4em;box-sizing: border-box;padding-bottom: 0.4em;background-color: white;}#sk-container-id-2 div.sk-label label {font-family: monospace;font-weight: bold;display: inline-block;line-height: 1.2em;}#sk-container-id-2 div.sk-label-container {text-align: center;}#sk-container-id-2 div.sk-container {/* jupyter's `normalize.less` sets `[hidden] { display: none; }` but bootstrap.min.css set `[hidden] { display: none !important; }` so we also need the `!important` here to be able to override the default hidden behavior on the sphinx rendered scikit-learn.org. See: https://github.com/scikit-learn/scikit-learn/issues/21755 */display: inline-block !important;position: relative;}#sk-container-id-2 div.sk-text-repr-fallback {display: none;}</style><div id=\"sk-container-id-2\" class=\"sk-top-container\"><div class=\"sk-text-repr-fallback\"><pre>KNeighborsClassifier()</pre><b>In a Jupyter environment, please rerun this cell to show the HTML representation or trust the notebook. <br />On GitHub, the HTML representation is unable to render, please try loading this page with nbviewer.org.</b></div><div class=\"sk-container\" hidden><div class=\"sk-item\"><div class=\"sk-estimator sk-toggleable\"><input class=\"sk-toggleable__control sk-hidden--visually\" id=\"sk-estimator-id-2\" type=\"checkbox\" checked><label for=\"sk-estimator-id-2\" class=\"sk-toggleable__label sk-toggleable__label-arrow\">KNeighborsClassifier</label><div class=\"sk-toggleable__content\"><pre>KNeighborsClassifier()</pre></div></div></div></div></div>"
            ]
          },
          "metadata": {},
          "execution_count": 32
        }
      ],
      "source": [
        "from sklearn.neighbors import KNeighborsClassifier\n",
        "\n",
        "# Ubah tipe data menjadi numpy array\n",
        "X = ushapedata[[\"x1\",\"x2\"]].to_numpy()\n",
        "Y = ushapedata[\"y\"].to_numpy()\n",
        "\n",
        "# model\n",
        "neigh = KNeighborsClassifier()\n",
        "\n",
        "# training\n",
        "neigh.fit(X, Y)"
      ]
    },
    {
      "cell_type": "markdown",
      "metadata": {
        "id": "7fTyeA8V8XF3"
      },
      "source": [
        "Setelah itu, kita bisa melakukan prediksi untuk data baru `x_new` dengan memanggil method `predict`:"
      ]
    },
    {
      "cell_type": "code",
      "execution_count": 33,
      "metadata": {
        "colab": {
          "base_uri": "https://localhost:8080/"
        },
        "id": "FxO8lPVzr49O",
        "outputId": "f9ab6a02-bdb0-4bf7-8297-93c60d235498"
      },
      "outputs": [
        {
          "output_type": "stream",
          "name": "stdout",
          "text": [
            "Prediksi kelas:  [0.]\n"
          ]
        }
      ],
      "source": [
        "print(\"Prediksi kelas: \", neigh.predict(x_new))"
      ]
    },
    {
      "cell_type": "markdown",
      "metadata": {
        "tags": [],
        "id": "lgd0J29Fv8ag"
      },
      "source": [
        "# Pertanyaan / Tugas:\n",
        "Gunakan referensi: [KNeighborsClassifier](https://scikit-learn.org/stable/modules/generated/sklearn.neighbors.KNeighborsClassifier.html), jawablah pertanyaan berikut berdasarkan code di atas :\n",
        "1. Berapakah nilai K yang digunakan ?\n",
        "2. Distance metric apa yang digunakan ? \n",
        "3. Buat code di bawah ini, gunakan 2 metrik jarak lainnya, tulis nama metrik dan tampilkan hasil prediksi untuk data yang sama !\n",
        "4. Buat code di bawah ini, bandingkan hasil dari 3 metrik jarak, untuk k = 3 !"
      ]
    },
    {
      "cell_type": "markdown",
      "metadata": {
        "id": "3_ig73qNv8ah"
      },
      "source": [
        "# Jawab:\n",
        "1. k = 5\n",
        "2. distance metric yang digunakan adalah minkowski\n",
        "3. euclidean = [0.]\n",
        "manhattan = [0.]\n"
      ]
    },
    {
      "cell_type": "code",
      "execution_count": 34,
      "metadata": {
        "id": "E6xEMsFzv8ah",
        "colab": {
          "base_uri": "https://localhost:8080/"
        },
        "outputId": "cc23ec22-e733-4132-a626-b1e487d9a58b"
      },
      "outputs": [
        {
          "output_type": "stream",
          "name": "stdout",
          "text": [
            "Prediksi kelas:  [0.]\n"
          ]
        }
      ],
      "source": [
        "# model dengan metrik Euclidean Distance\n",
        "# Tulis code di bawah ini\n",
        "\n",
        "# model (menggunakan metric euclidean distance)\n",
        "euclidean_kNN = KNeighborsClassifier(metric = 'euclidean')\n",
        "\n",
        "# training\n",
        "euclidean_kNN.fit(X, Y)\n",
        "\n",
        "# prediciton\n",
        "print(\"Prediksi kelas: \", euclidean_kNN.predict(x_new))"
      ]
    },
    {
      "cell_type": "code",
      "execution_count": 35,
      "metadata": {
        "id": "iXeuL3Jcv8ai",
        "colab": {
          "base_uri": "https://localhost:8080/"
        },
        "outputId": "4a7147cb-1a91-402c-e063-09cdbb43d304"
      },
      "outputs": [
        {
          "output_type": "stream",
          "name": "stdout",
          "text": [
            "Prediksi kelas:  [0.]\n"
          ]
        }
      ],
      "source": [
        "# model dengan metrik Manhattan Distance\n",
        "# Tulis code di bawah ini\n",
        "\n",
        "# model (menggunakan metric manhattan distance)\n",
        "manhattan_kNN = KNeighborsClassifier(metric = 'manhattan')\n",
        "\n",
        "# training\n",
        "manhattan_kNN.fit(X, Y)\n",
        "\n",
        "# prediciton\n",
        "print(\"Prediksi kelas: \", manhattan_kNN.predict(x_new))"
      ]
    },
    {
      "cell_type": "markdown",
      "metadata": {
        "id": "CB8V-FiJv8ai"
      },
      "source": [
        "4. "
      ]
    },
    {
      "cell_type": "code",
      "execution_count": 38,
      "metadata": {
        "id": "lByDD6aHv8aj",
        "outputId": "ddad8591-ef37-4040-e6af-6f183ade3bb8",
        "colab": {
          "base_uri": "https://localhost:8080/"
        }
      },
      "outputs": [
        {
          "output_type": "stream",
          "name": "stdout",
          "text": [
            "Prediksi kelas untuk p=1:   [0.]\n",
            "Prediksi kelas untuk p=2:   [0.]\n",
            "Prediksi kelas untuk p=3:   [0.]\n"
          ]
        }
      ],
      "source": [
        "''' all metrics defined by p.\n",
        " p = 1: Manhattan distance\n",
        " p = 2: Euclidean distance\n",
        " p = 3: Minkowski distance \n",
        "'''\n",
        "\n",
        "# Tulis code di bawah ini\n",
        "\n",
        "# Model untuk masing-masing metrik\n",
        "manhattan_kNN = KNeighborsClassifier(metric = 'manhattan', p = 1)\n",
        "euclidean_kNN = KNeighborsClassifier(metric = 'euclidean' ,p = 2 )\n",
        "minkowski_kNN = KNeighborsClassifier(metric = 'minkowski' ,p = 3 )\n",
        "\n",
        "# Training setiap model\n",
        "manhattan_kNN.fit(X, Y)\n",
        "euclidean_kNN.fit(X, Y)\n",
        "minkowski_kNN.fit(X, Y)\n",
        "\n",
        "# Buat prediksi dari setiap model\n",
        "print('Prediksi kelas untuk p=1:  ', manhattan_kNN.predict(x_new))\n",
        "print('Prediksi kelas untuk p=2:  ', euclidean_kNN.predict(x_new))\n",
        "print('Prediksi kelas untuk p=3:  ', minkowski_kNN.predict(x_new))"
      ]
    },
    {
      "cell_type": "markdown",
      "metadata": {
        "id": "B1v5LGvyi_mf"
      },
      "source": [
        "\n",
        "\n",
        "---\n",
        "\n"
      ]
    },
    {
      "cell_type": "markdown",
      "metadata": {
        "id": "hcwUXICVUxuk"
      },
      "source": [
        "## 2.2. Nilai K dalam KNN\n",
        "Hyper-parameter K dalam KNN sangat berpengaruh kepada kualitas hasil klasifikasi oleh KNN, di bawah ini kita mengeksplor lebih jauh bagaimana pengaruh K dan bagaimana cara memilih K yang baik. Sebelum itu, kita plot decision boundary dari KNN dengan data yang kita load sebelumnya:"
      ]
    },
    {
      "cell_type": "code",
      "execution_count": 39,
      "metadata": {
        "colab": {
          "base_uri": "https://localhost:8080/",
          "height": 1000,
          "referenced_widgets": [
            "6d33f8b6c53645fa8e1f3ba9a0ecc2c5",
            "1dccfe7ca8384df39892430c28d6f655",
            "02e1975e9e60436ca1f5fa2fb6a97c26",
            "06e542acae914478ad6a248448fc078c",
            "319ba8ebb4284679bdf69d0bac8d4522",
            "1a0db66bf15d4793afe59f76375525bc",
            "07ce4bd2599e4407ab2aaa855eab3568"
          ]
        },
        "id": "zL939GfQVJH1",
        "outputId": "13718981-bb85-43d6-f5d3-bced01c0b14b"
      },
      "outputs": [
        {
          "output_type": "display_data",
          "data": {
            "text/plain": [
              "interactive(children=(Dropdown(description='k', options=(1, 2, 3, 4, 5, 6, 7, 8, 9, 10), value=1), Output()), …"
            ],
            "application/vnd.jupyter.widget-view+json": {
              "version_major": 2,
              "version_minor": 0,
              "model_id": "6d33f8b6c53645fa8e1f3ba9a0ecc2c5"
            }
          },
          "metadata": {}
        },
        {
          "output_type": "display_data",
          "data": {
            "text/plain": [
              "<Figure size 1000x700 with 1 Axes>"
            ],
            "image/png": "[encoded data removed]"
          },
          "metadata": {}
        }
      ],
      "source": [
        "from sklearn import datasets, neighbors\n",
        "from ipywidgets import interact\n",
        "from mlxtend.plotting import plot_decision_regions\n",
        "import warnings\n",
        "warnings.filterwarnings('ignore')\n",
        "\n",
        "@interact\n",
        "def knn_comparison(k = [1, 2, 3, 4, 5, 6, 7, 8, 9, 10]):\n",
        "  \"\"\"\n",
        "  this function is adapted from https://towardsdatascience.com/knn-visualization-in-just-13-lines-of-code-32820d72c6b6\n",
        "  \"\"\"\n",
        "  x = ushapedata[['x1','x2']].values\n",
        "  y = ushapedata['y'].astype(int).values\n",
        "  clf = neighbors.KNeighborsClassifier(n_neighbors=k)\n",
        "  clf.fit(x, y)\n",
        "  plot_decision_regions(x, y, clf=clf, legend=2)\n",
        "  plt.xlabel('X')\n",
        "  plt.ylabel('Y')\n",
        "  plt.title('KNN with k='+ str(k))\n",
        "  plt.show()\n"
      ]
    },
    {
      "cell_type": "markdown",
      "metadata": {
        "id": "o2nWZmjrVN2X"
      },
      "source": [
        "Silahkan bereksperimen dengan nilai k_list di baris code diatas dengan comment #change me, lalu jawablah pertanyaan di bawah ini."
      ]
    },
    {
      "cell_type": "markdown",
      "metadata": {
        "id": "YiqJTU5Nv8an"
      },
      "source": [
        "# Pertanyaan\n",
        "1. Apa yang terjadi jika K semakin besar?\n",
        "2. Apa yang terjadi jika K semakin kecil?\n",
        "3. Bagaimana menurut anda pengaruh nilai K dalam KNN? Apa hubungan nilai K dengan bias-variance tradeoff?"
      ]
    },
    {
      "cell_type": "markdown",
      "metadata": {
        "id": "jjAAc5krv8an"
      },
      "source": [
        "# Jawab:\n",
        "1.  Nilai K yang terlalu besar akan menyebabkan over fitting\n",
        "2.  Nilai k yang terlalu kecil akan menyebabkan under fitting\n",
        "3.  Nilai K berpengaruh besar terhadap akurasi dari hasil prediksi model"
      ]
    },
    {
      "cell_type": "markdown",
      "metadata": {
        "id": "9hXxHWArVPVu"
      },
      "source": [
        "Note: salah satu cara untuk mendapatkan nilai K yang optimal adalah dengan menggunakan **cross-validation**."
      ]
    },
    {
      "cell_type": "markdown",
      "metadata": {
        "id": "eS69aO25OyKy"
      },
      "source": [
        "---\n",
        "\n",
        "## 2.3. Catatan Tambahan: Mempercepat Perhitungan Jarak\n",
        "\n",
        "Dalam aplikasinya sangat tidak disarankan untuk memakai cara naif dengan menghitung jarak semua data training dengan data testing kita satu persatu. Di dalam library scikit learn ([KNeighborsClassifier](https://scikit-learn.org/stable/modules/generated/sklearn.neighbors.KNeighborsClassifier.html)) ada 3 varian algoritma yang digunakan untuk mempercepat KNN, yaitu :\n",
        "\n",
        "1. Brute Force\n",
        "  - Brute force menghitung jarak dari data uji terhadap semua data latih kita di tahap pengujian. Hal ini menyebabkan waktu yang dilakukan untuk memprediksi data akan lama jika kita memiliki data uji yang banyak, dengan kompleksitas: $O[DN^2]$.\n",
        "\n",
        "2. KD Tree\n",
        "  - Untuk mempercepat prediksi, KD Tree membangun sebuah struktur data pohon dari data latih yang kita punya dan penghitungan jarak akan dibantu dengan pohon tersebut. \n",
        "  - Besar kompleksitas dari algoritma ini adalah $O[DN \\log(N)]$.\n",
        "  - Ide dasarnya adalah jika titik A sangat jauh dari titik B, dan titik B sangat dekat dengan titik C maka kita tahu bahwa titik A dan C juga jauh. Maka kita tidak perlu menghitung jarak titik A ke titik C secara langsung.\n",
        "  - Secara visual:\n",
        "    1. Bangun KD Tree dengan cara mempartisi space kita, misalkan kita bagi space saat $x=7$ kemudian di sisi kanan bagi saat $y=6$, di sisi kiri bagi saat $y=4$. lakukan secara rekursif sampai KD Tree terbentuk:\n",
        "  <img src=\"https://qph.fs.quoracdn.net/main-qimg-5cba5d9422dfbcd48c154db5c756661d\" width= 500px;/>\n",
        "    2. Misalkan kita punya data test berada di titik warna ungu. Kita akan berjalan pertama melalui root $(7,2)$:\n",
        "      <img src=\"https://qph.fs.quoracdn.net/main-qimg-df281b60a8b0b5580ee85af115bf6388\" width= 500px;/>\n",
        "    3. Karena titik ungu berada di sebelah kiri root, kita bisa meng eliminasi semua titik yang berada di area kanan root:\n",
        "    <img src=\"https://qph.fs.quoracdn.net/main-qimg-33ebfe3105ce0d69aa0d20c3bbe6effd\" width= 500px;/>\n",
        "    4. Lakukan hal yang sama di leaf dari root pertama sampai kita berada di leaf terakhir:\n",
        "        <img src=\"https://qph.fs.quoracdn.net/main-qimg-cdab708fd4059dc20a1e05bedd1c34a2\" width= 500px;/>\n",
        "    5. Setelah sampai di leaf terakhir kita dapat menghitung jarak pada titik yang areanya tidak ter eliminasi.  \n",
        "    sumber gambar: https://www.quora.com/How-does-a-k-d-tree-find-the-K-nearest-neighbors\n",
        "\n",
        "  \n",
        "3. Ball Tree\n",
        "  - Untuk mengatasi kelemahan KD Tree pada data yang memiliki dimensi tinggi, Ball Tree diperkenalkan dengan cara mengubah partisi koordinat kartesian dengan nesting hyper-spheres.\n",
        "  - Ball tree secara rekursif membagi data kedalam nodes yang didefinisikan oleh centroid $C$ dan radius $r$. Secara visual Ball Tree dapat dibentuk sebagai berikut:\n",
        "\n",
        "    <img src=\"https://www.researchgate.net/profile/Conor-Ransome/publication/342819363/figure/fig2/AS:911440366010368@1594315725423/Diagram-of-the-Ball-Tree-Algorithm-Step-i-the-data-points-ii-first-ball-the-parent_W640.jpg\" width= 500px;/>\n",
        "    \n",
        "  - Dengan menggunakan *triangle inequality*, kita dapat melakukan penghitungan dengan hanya memanfaatkan *centroid* dari Ball-Tree kita. \n",
        "  - Dan karena struktur data kita seperti ini kita tidak menemui kelemahan terhadap dimensi tinggi seperti pada KD-Tree. "
      ]
    },
    {
      "cell_type": "markdown",
      "metadata": {
        "id": "PYTKW7tPN03v"
      },
      "source": [
        "Berikut ini kita bandingkan kecepatan dari ketiga algoritma tersebut. Untuk algoritma yang berbasiskan Tree kita perlu untuk membuild tree nya terlebih dahulu sehingga ada waktu build yang diperlukan. Build ini hanya dilakukan sekali. "
      ]
    },
    {
      "cell_type": "code",
      "execution_count": 40,
      "metadata": {
        "colab": {
          "base_uri": "https://localhost:8080/"
        },
        "id": "A8QSVbybLimh",
        "outputId": "13af4f96-1d6c-4c59-aeaf-b75aa39dce67"
      },
      "outputs": [
        {
          "output_type": "stream",
          "name": "stdout",
          "text": [
            "brute\n",
            "run time : 0.084287039299997 ± 0.005826867858859245\n",
            "-------------------------------------------\n",
            "run time build of ball_tree :  0.8044285339999959\n",
            "ball_tree\n",
            "run time : 0.0007003624999967428 ± 0.0005985579826936005\n",
            "-------------------------------------------\n",
            "run time build of kd_tree :  1.0863297650000021\n",
            "kd_tree\n",
            "run time : 0.0002099733999997966 ± 0.00010240850819630604\n",
            "-------------------------------------------\n"
          ]
        }
      ],
      "source": [
        "import time\n",
        "from sklearn.datasets import make_classification\n",
        "X, Y = make_classification(500000,5)\n",
        "from sklearn.neighbors import KDTree, BallTree\n",
        "\n",
        "k = 5\n",
        "method_list = {\"ball_tree\":BallTree, \"kd_tree\":KDTree}\n",
        "\n",
        "for method in [\"brute\", \"ball_tree\", \"kd_tree\"]:\n",
        "  rep = []\n",
        "\n",
        "  if method != \"brute\":\n",
        "    start_time_build = time.process_time()\n",
        "    tree = method_list[method](X[5:], leaf_size=30) \n",
        "    print(\"run time build of\",method,\": \", time.process_time() - start_time_build)\n",
        "\n",
        "  for i in range(10):\n",
        "    start_time = time.process_time()\n",
        "    if method == \"brute\":\n",
        "      neigh = KNeighborsClassifier(n_neighbors=k,algorithm=method)\n",
        "      neigh.fit(X[5:], Y[5:])\n",
        "      neigh.predict(X[:1])\n",
        "    else:\n",
        "      dist, ind = tree.query(X[:1], k=k) \n",
        "\n",
        "    run_time = time.process_time() - start_time\n",
        "    rep.append(run_time)\n",
        "  rep = np.array(rep)\n",
        "  print(method)\n",
        "  print(\"run time :\", np.mean(rep),u\"\\u00B1\",np.std(rep))\n",
        "  print(\"-------------------------------------------\")"
      ]
    },
    {
      "cell_type": "markdown",
      "metadata": {
        "id": "WB5AHaZIv8aq"
      },
      "source": [
        "# 3. Code from the scratch"
      ]
    },
    {
      "cell_type": "markdown",
      "metadata": {
        "id": "YpKCcEH7v8aq"
      },
      "source": [
        "## 3.1. KNN untuk Klasifikasi"
      ]
    },
    {
      "cell_type": "markdown",
      "metadata": {
        "id": "ygesiEIsdZtU",
        "tags": []
      },
      "source": [
        "Pada sub bab ini diharapkan Anda dapat menulis program KNN sebagai model klasifikasi menggunakan Numpy, yaitu dengan:\n",
        "1. Menulis kode metric distance\n",
        "2. Menulis kode core KNN algorithm\n",
        "3. Menulis kode output KNN untuk klasifikasi\n",
        "4. Melakukan cross validation untuk mendapatkan nilai K terbaik\n",
        "\n",
        "Dataset yang digunakan adalah data `ushape` yang sama dengan sebelumnya:\n"
      ]
    },
    {
      "cell_type": "code",
      "execution_count": 41,
      "metadata": {
        "colab": {
          "base_uri": "https://localhost:8080/",
          "height": 300
        },
        "id": "hMYUy5zrgfR-",
        "outputId": "d7df011b-9c27-4b0a-f1db-16e069e7869b"
      },
      "outputs": [
        {
          "output_type": "execute_result",
          "data": {
            "text/plain": [
              "               x1          x2           y\n",
              "count  100.000000  100.000000  100.000000\n",
              "mean     0.500420    0.228701    0.500000\n",
              "std      0.891044    0.592885    0.502519\n",
              "min     -1.318500   -1.035702    0.000000\n",
              "25%     -0.140330   -0.203260    0.000000\n",
              "50%      0.470678    0.188660    0.500000\n",
              "75%      1.112008    0.658448    1.000000\n",
              "max      2.181372    1.571899    1.000000"
            ],
            "text/html": [
              "\n",
              "  <div id=\"df-cb35c5ac-d69c-4866-823b-7cd31169276a\">\n",
              "    <div class=\"colab-df-container\">\n",
              "      <div>\n",
              "<style scoped>\n",
              "    .dataframe tbody tr th:only-of-type {\n",
              "        vertical-align: middle;\n",
              "    }\n",
              "\n",
              "    .dataframe tbody tr th {\n",
              "        vertical-align: top;\n",
              "    }\n",
              "\n",
              "    .dataframe thead th {\n",
              "        text-align: right;\n",
              "    }\n",
              "</style>\n",
              "<table border=\"1\" class=\"dataframe\">\n",
              "  <thead>\n",
              "    <tr style=\"text-align: right;\">\n",
              "      <th></th>\n",
              "      <th>x1</th>\n",
              "      <th>x2</th>\n",
              "      <th>y</th>\n",
              "    </tr>\n",
              "  </thead>\n",
              "  <tbody>\n",
              "    <tr>\n",
              "      <th>count</th>\n",
              "      <td>100.000000</td>\n",
              "      <td>100.000000</td>\n",
              "      <td>100.000000</td>\n",
              "    </tr>\n",
              "    <tr>\n",
              "      <th>mean</th>\n",
              "      <td>0.500420</td>\n",
              "      <td>0.228701</td>\n",
              "      <td>0.500000</td>\n",
              "    </tr>\n",
              "    <tr>\n",
              "      <th>std</th>\n",
              "      <td>0.891044</td>\n",
              "      <td>0.592885</td>\n",
              "      <td>0.502519</td>\n",
              "    </tr>\n",
              "    <tr>\n",
              "      <th>min</th>\n",
              "      <td>-1.318500</td>\n",
              "      <td>-1.035702</td>\n",
              "      <td>0.000000</td>\n",
              "    </tr>\n",
              "    <tr>\n",
              "      <th>25%</th>\n",
              "      <td>-0.140330</td>\n",
              "      <td>-0.203260</td>\n",
              "      <td>0.000000</td>\n",
              "    </tr>\n",
              "    <tr>\n",
              "      <th>50%</th>\n",
              "      <td>0.470678</td>\n",
              "      <td>0.188660</td>\n",
              "      <td>0.500000</td>\n",
              "    </tr>\n",
              "    <tr>\n",
              "      <th>75%</th>\n",
              "      <td>1.112008</td>\n",
              "      <td>0.658448</td>\n",
              "      <td>1.000000</td>\n",
              "    </tr>\n",
              "    <tr>\n",
              "      <th>max</th>\n",
              "      <td>2.181372</td>\n",
              "      <td>1.571899</td>\n",
              "      <td>1.000000</td>\n",
              "    </tr>\n",
              "  </tbody>\n",
              "</table>\n",
              "</div>\n",
              "      <button class=\"colab-df-convert\" onclick=\"convertToInteractive('df-cb35c5ac-d69c-4866-823b-7cd31169276a')\"\n",
              "              title=\"Convert this dataframe to an interactive table.\"\n",
              "              style=\"display:none;\">\n",
              "        \n",
              "  <svg xmlns=\"http://www.w3.org/2000/svg\" height=\"24px\"viewBox=\"0 0 24 24\"\n",
              "       width=\"24px\">\n",
              "    <path d=\"M0 0h24v24H0V0z\" fill=\"none\"/>\n",
              "    <path d=\"M18.56 5.44l.94 2.06.94-2.06 2.06-.94-2.06-.94-.94-2.06-.94 2.06-2.06.94zm-11 1L8.5 8.5l.94-2.06 2.06-.94-2.06-.94L8.5 2.5l-.94 2.06-2.06.94zm10 10l.94 2.06.94-2.06 2.06-.94-2.06-.94-.94-2.06-.94 2.06-2.06.94z\"/><path d=\"M17.41 7.96l-1.37-1.37c-.4-.4-.92-.59-1.43-.59-.52 0-1.04.2-1.43.59L10.3 9.45l-7.72 7.72c-.78.78-.78 2.05 0 2.83L4 21.41c.39.39.9.59 1.41.59.51 0 1.02-.2 1.41-.59l7.78-7.78 2.81-2.81c.8-.78.8-2.07 0-2.86zM5.41 20L4 18.59l7.72-7.72 1.47 1.35L5.41 20z\"/>\n",
              "  </svg>\n",
              "      </button>\n",
              "      \n",
              "  <style>\n",
              "    .colab-df-container {\n",
              "      display:flex;\n",
              "      flex-wrap:wrap;\n",
              "      gap: 12px;\n",
              "    }\n",
              "\n",
              "    .colab-df-convert {\n",
              "      background-color: #E8F0FE;\n",
              "      border: none;\n",
              "      border-radius: 50%;\n",
              "      cursor: pointer;\n",
              "      display: none;\n",
              "      fill: #1967D2;\n",
              "      height: 32px;\n",
              "      padding: 0 0 0 0;\n",
              "      width: 32px;\n",
              "    }\n",
              "\n",
              "    .colab-df-convert:hover {\n",
              "      background-color: #E2EBFA;\n",
              "      box-shadow: 0px 1px 2px rgba(60, 64, 67, 0.3), 0px 1px 3px 1px rgba(60, 64, 67, 0.15);\n",
              "      fill: #174EA6;\n",
              "    }\n",
              "\n",
              "    [theme=dark] .colab-df-convert {\n",
              "      background-color: #3B4455;\n",
              "      fill: #D2E3FC;\n",
              "    }\n",
              "\n",
              "    [theme=dark] .colab-df-convert:hover {\n",
              "      background-color: #434B5C;\n",
              "      box-shadow: 0px 1px 3px 1px rgba(0, 0, 0, 0.15);\n",
              "      filter: drop-shadow(0px 1px 2px rgba(0, 0, 0, 0.3));\n",
              "      fill: #FFFFFF;\n",
              "    }\n",
              "  </style>\n",
              "\n",
              "      <script>\n",
              "        const buttonEl =\n",
              "          document.querySelector('#df-cb35c5ac-d69c-4866-823b-7cd31169276a button.colab-df-convert');\n",
              "        buttonEl.style.display =\n",
              "          google.colab.kernel.accessAllowed ? 'block' : 'none';\n",
              "\n",
              "        async function convertToInteractive(key) {\n",
              "          const element = document.querySelector('#df-cb35c5ac-d69c-4866-823b-7cd31169276a');\n",
              "          const dataTable =\n",
              "            await google.colab.kernel.invokeFunction('convertToInteractive',\n",
              "                                                     [key], {});\n",
              "          if (!dataTable) return;\n",
              "\n",
              "          const docLinkHtml = 'Like what you see? Visit the ' +\n",
              "            '<a target=\"_blank\" href=https://colab.research.google.com/notebooks/data_table.ipynb>data table notebook</a>'\n",
              "            + ' to learn more about interactive tables.';\n",
              "          element.innerHTML = '';\n",
              "          dataTable['output_type'] = 'display_data';\n",
              "          await google.colab.output.renderOutput(dataTable, element);\n",
              "          const docLink = document.createElement('div');\n",
              "          docLink.innerHTML = docLinkHtml;\n",
              "          element.appendChild(docLink);\n",
              "        }\n",
              "      </script>\n",
              "    </div>\n",
              "  </div>\n",
              "  "
            ]
          },
          "metadata": {},
          "execution_count": 41
        }
      ],
      "source": [
        "ushapedata = pd.read_csv('https://raw.githubusercontent.com/Adityarajora/Complete-KNN-visualization/master/1.ushape.csv',names=['x1', 'x2', 'y'])\n",
        "X = ushapedata[[\"x1\",\"x2\"]].to_numpy()\n",
        "Y = ushapedata[\"y\"].to_numpy()\n",
        "ushapedata.describe()"
      ]
    },
    {
      "cell_type": "markdown",
      "metadata": {
        "id": "lgapbv-nfzde"
      },
      "source": [
        "## Distance metric \n",
        "Pertama kali yang harus dilakukan adalah membuat fungsi metrik jarak. Tulislah kode untuk menghitung jarak menggunakan *Minkowski distance* dengan $p=2$, atau sama dengan Euclidean distance dengan rumus yang telah diberikan sebelumnya, atau:\n",
        "\n",
        "$$\n",
        "\\operatorname{dist}(\\mathbf{x}, \\mathbf{x'})=\\sqrt{\\sum_{i=1}^{n}\\left(x_{i}-x'_{i}\\right)^{2}}\n",
        "$$\n",
        "\n"
      ]
    },
    {
      "cell_type": "code",
      "execution_count": 42,
      "metadata": {
        "id": "cJ5dgP-sdlWK"
      },
      "outputs": [],
      "source": [
        "# Jawab:\n",
        "def dist(x,xprime):\n",
        "  \"\"\"\n",
        "  x       : 1xd array titik data\n",
        "  xprime  : 1xd array titik data\n",
        "\n",
        "  returns : jarak Eucledian dari data x ke data xprime\n",
        "  \"\"\"\n",
        "  np.testing.assert_equal(x.shape,xprime.shape)\n",
        "  ### Tulis code di bawah ini:\n",
        "  \n",
        "  distance = np.sqrt(np.sum((x - xprime)**2))\n",
        "    \n",
        "  ### Akhir code\n",
        "\n",
        "  return distance"
      ]
    },
    {
      "cell_type": "markdown",
      "metadata": {
        "id": "f4AGRTmS6_Y7"
      },
      "source": [
        "> **Important reminder**: Ketika melakukan implementasi selalu perhatikan:\n",
        "1. Ukuran dan dimensi matriks input dan output pada fungsi.\n",
        "2. Karakteristik fungsi dari numpy/library yang digunakan.\n",
        "3. Dalam praktik pengembangan software ML, menuliskan docstring seperti diatas dengan informasi dimensi akan sangat membantu."
      ]
    },
    {
      "cell_type": "markdown",
      "metadata": {
        "id": "CnHZ2b9bdl3G"
      },
      "source": [
        "## Core KNN algorithm\n",
        "Berikutnya adalah membuat code untuk mendapatkan nilai jarak dari semua data latih ke data baru yang ingin kita klasifikasikan, kemudian lakukan sorting pada array jarak tersebut dari nilai distance yang terkecil ke yang terbesar.\n",
        "\n",
        "Tulis kode penghitungan nilai distance tiap data training dibawah ini, sertakan juga index dari set distance tersebut\n",
        "\n",
        "  hint: \n",
        "  1. gunakan fungsi dist yang telah anda tulis sebelumnya\n",
        "  2. gunakan fungsi np.sort untuk melakukan sorting \n",
        "  3. untuk mendapatkan indeks yang telah terurut bisa menggunakan np.argsort"
      ]
    },
    {
      "cell_type": "code",
      "execution_count": 43,
      "metadata": {
        "id": "mtpOHKY_dnBJ"
      },
      "outputs": [],
      "source": [
        "# Jawab:\n",
        "def knn(X_train, x_new, k):\n",
        "  \"\"\"\n",
        "  X_train : N x d array data training\n",
        "  x_new   : 1 x d array data baru\n",
        "  k       : hyperparameter k, jumlah data yang menjadi tetangga \n",
        "\n",
        "  returns : K array indeks dan K array nilai distance yang telah di urutkan dari terkecil ke terbesar \n",
        "  \"\"\"\n",
        "  \n",
        "  ### Tulis code di bawah ini:\n",
        "  distance_list = [dist(x[None,:],x_new) for x in X_train]\n",
        "  distances = np.sort(distance_list)[:k]\n",
        "  indices = np.argsort(distance_list)[:k]\n",
        "  ### Akhir code\n",
        "\n",
        "  return indices, distances"
      ]
    },
    {
      "cell_type": "markdown",
      "metadata": {
        "id": "ldvCKz4qdnLy"
      },
      "source": [
        "## Classification output\n",
        "Berikutnya adalah membuat kode untuk mendapatkan label dari data baru kita, untuk menentukan label dari data baru, kita dapat menggunakan majority voting \n",
        "label dari $S_x$. Secara matematis, peluang data baru $x_0$ memiliki label $j$ dapat dihitung dengan:\n",
        "\n",
        "$$\n",
        "\\operatorname{Pr}\\left(Y=j \\mid X=x_{0}\\right)=\\frac{1}{|S_x|} \\sum_{i \\in \\mathcal{N}_{S_x}} I\\left(y_{i}=j\\right)\n",
        "$$\n",
        "\n",
        "$\\mathcal{N}_{S_x}$ adalah set index dari $S_x$, dan $I$ adalah indicator function yang bernilai 1 apabila $y_i=j$ dan 0 jika $y_i \\neq j$. \n",
        "\n",
        "Sehingga dalam implementasinya, label dari data baru $x_0$ adalah $j$ ketika ${Pr}\\left(Y=j \\mid X=x_{0}\\right)$ memberikan nilai tertinggi dibanding selain $j$."
      ]
    },
    {
      "cell_type": "code",
      "execution_count": 44,
      "metadata": {
        "id": "BOyyw1D5dnU5"
      },
      "outputs": [],
      "source": [
        "def label_prob(y_train_k, j, k):\n",
        "  \"\"\"\n",
        "  y_train_k : K x 1 array K data training paling dekat dengan data baru\n",
        "  j         : label yang ingin dihitung probabilitasnya\n",
        "  k         : hyperparameter k, jumlah data yang menjadi tetangga\n",
        "\n",
        "  returns   : probabilitas label j\n",
        "  \"\"\"\n",
        "  \n",
        "  j_k = np.tile(j,k)\n",
        "  indicator = [1 if eq else 0 for eq in np.equal(y_train_k, j_k)]\n",
        "  prob = np.sum(indicator)/k\n",
        "\n",
        "  return prob"
      ]
    },
    {
      "cell_type": "markdown",
      "metadata": {
        "id": "LtHhDHdAdnvV"
      },
      "source": [
        "## Prediction\n",
        "Sekarang kita gabungkan semua kode yang tadi untuk melakukan prediksi terhadap data baru"
      ]
    },
    {
      "cell_type": "code",
      "execution_count": 45,
      "metadata": {
        "id": "grC_P1NLdoG7"
      },
      "outputs": [],
      "source": [
        "def knn_predict(X_train, y_train, x_new_list, k =10):\n",
        "  \"\"\"\n",
        "  X_train     : N x d array data training\n",
        "  y_train     : N x 1 array label training\n",
        "  x_new_list  : M x d array data baru\n",
        "  k           : hyperparameter k, jumlah data yang menjadi tetangga\n",
        "\n",
        "  returns     : M x 1 label data baru \n",
        "  \"\"\"\n",
        "  labels_of_k = []\n",
        "  for x_new in x_new_list:\n",
        "    indices, distances = knn(X_train, x_new[None,:], k)\n",
        "    labels = np.unique(y_train)\n",
        "    y_train_k = y_train[indices]\n",
        "    probs = [label_prob(y_train_k, j, k) for j in labels]\n",
        "    labels_of_k.append(labels[np.argmax(probs)])\n",
        "\n",
        "  return np.array(labels_of_k)"
      ]
    },
    {
      "cell_type": "markdown",
      "metadata": {
        "id": "wIcZAxtdeWJb"
      },
      "source": [
        "Kita coba melakukan prediksi pada titik $(-1,1)$, $(2,-1)$ dan $(0.7,0)$\n"
      ]
    },
    {
      "cell_type": "code",
      "execution_count": 46,
      "metadata": {
        "colab": {
          "base_uri": "https://localhost:8080/",
          "height": 637
        },
        "id": "3yr4UCcneWTd",
        "outputId": "21646657-3933-4128-bd9d-c4d3ef2b1b98"
      },
      "outputs": [
        {
          "output_type": "display_data",
          "data": {
            "text/plain": [
              "<Axes: xlabel='x1', ylabel='x2'>"
            ]
          },
          "metadata": {}
        },
        {
          "output_type": "display_data",
          "data": {
            "text/plain": [
              "<Figure size 1000x700 with 1 Axes>"
            ],
            "image/png": "[encoded data removed]"
          },
          "metadata": {}
        }
      ],
      "source": [
        "data_with_new_point = ushapedata.append([{\"x1\":-1.,\"x2\":1   ,\"y\":\"new data\"},\n",
        "                                         {\"x1\":2. ,\"x2\":-0.5,\"y\":\"new data\"},\n",
        "                                         {\"x1\":0.7,\"x2\":0.  ,\"y\":\"new data\"}], ignore_index=True)\n",
        "\n",
        "display(sns.scatterplot(data=data_with_new_point, x=\"x1\", y=\"x2\",hue='y',palette='deep'))"
      ]
    },
    {
      "cell_type": "markdown",
      "metadata": {
        "id": "hB41BoQPefZi"
      },
      "source": [
        "Kita dapat melakukan prediksi pada data tersebut dengan memanggil fungsi `knn_predict` yang telah kita tulis:"
      ]
    },
    {
      "cell_type": "code",
      "execution_count": 47,
      "metadata": {
        "colab": {
          "base_uri": "https://localhost:8080/"
        },
        "id": "IX4c7EhDefkB",
        "outputId": "419bca42-8c2a-4637-8a52-3fcae0192edf"
      },
      "outputs": [
        {
          "output_type": "execute_result",
          "data": {
            "text/plain": [
              "array([0., 1., 0.])"
            ]
          },
          "metadata": {},
          "execution_count": 47
        }
      ],
      "source": [
        "new_data_list = np.array([[-1.,1.], [2.,-0.5], [0.7,0.]])\n",
        "knn_predict(X,Y,new_data_list)"
      ]
    },
    {
      "cell_type": "markdown",
      "metadata": {
        "id": "OcrWasitv8ay"
      },
      "source": [
        "# Tugas\n",
        "Lakukan percobaan yang sama dengan di atas, namun menggunakan library scikit-learn, lalu bandingkan hasilnya."
      ]
    },
    {
      "cell_type": "code",
      "source": [
        "# Melakukan percobaan klasifikasi diatas menggunakan library scikit-learn\n",
        "neigh = KNeighborsClassifier()\n",
        "neigh.fit(X,Y)\n"
      ],
      "metadata": {
        "colab": {
          "base_uri": "https://localhost:8080/",
          "height": 74
        },
        "id": "zMSMCpVBzrNB",
        "outputId": "c89312c7-e423-464c-d55c-f6e0042434f8"
      },
      "execution_count": 49,
      "outputs": [
        {
          "output_type": "execute_result",
          "data": {
            "text/plain": [
              "KNeighborsClassifier()"
            ],
            "text/html": [
              "<style>#sk-container-id-4 {color: black;background-color: white;}#sk-container-id-4 pre{padding: 0;}#sk-container-id-4 div.sk-toggleable {background-color: white;}#sk-container-id-4 label.sk-toggleable__label {cursor: pointer;display: block;width: 100%;margin-bottom: 0;padding: 0.3em;box-sizing: border-box;text-align: center;}#sk-container-id-4 label.sk-toggleable__label-arrow:before {content: \"▸\";float: left;margin-right: 0.25em;color: #696969;}#sk-container-id-4 label.sk-toggleable__label-arrow:hover:before {color: black;}#sk-container-id-4 div.sk-estimator:hover label.sk-toggleable__label-arrow:before {color: black;}#sk-container-id-4 div.sk-toggleable__content {max-height: 0;max-width: 0;overflow: hidden;text-align: left;background-color: #f0f8ff;}#sk-container-id-4 div.sk-toggleable__content pre {margin: 0.2em;color: black;border-radius: 0.25em;background-color: #f0f8ff;}#sk-container-id-4 input.sk-toggleable__control:checked~div.sk-toggleable__content {max-height: 200px;max-width: 100%;overflow: auto;}#sk-container-id-4 input.sk-toggleable__control:checked~label.sk-toggleable__label-arrow:before {content: \"▾\";}#sk-container-id-4 div.sk-estimator input.sk-toggleable__control:checked~label.sk-toggleable__label {background-color: #d4ebff;}#sk-container-id-4 div.sk-label input.sk-toggleable__control:checked~label.sk-toggleable__label {background-color: #d4ebff;}#sk-container-id-4 input.sk-hidden--visually {border: 0;clip: rect(1px 1px 1px 1px);clip: rect(1px, 1px, 1px, 1px);height: 1px;margin: -1px;overflow: hidden;padding: 0;position: absolute;width: 1px;}#sk-container-id-4 div.sk-estimator {font-family: monospace;background-color: #f0f8ff;border: 1px dotted black;border-radius: 0.25em;box-sizing: border-box;margin-bottom: 0.5em;}#sk-container-id-4 div.sk-estimator:hover {background-color: #d4ebff;}#sk-container-id-4 div.sk-parallel-item::after {content: \"\";width: 100%;border-bottom: 1px solid gray;flex-grow: 1;}#sk-container-id-4 div.sk-label:hover label.sk-toggleable__label {background-color: #d4ebff;}#sk-container-id-4 div.sk-serial::before {content: \"\";position: absolute;border-left: 1px solid gray;box-sizing: border-box;top: 0;bottom: 0;left: 50%;z-index: 0;}#sk-container-id-4 div.sk-serial {display: flex;flex-direction: column;align-items: center;background-color: white;padding-right: 0.2em;padding-left: 0.2em;position: relative;}#sk-container-id-4 div.sk-item {position: relative;z-index: 1;}#sk-container-id-4 div.sk-parallel {display: flex;align-items: stretch;justify-content: center;background-color: white;position: relative;}#sk-container-id-4 div.sk-item::before, #sk-container-id-4 div.sk-parallel-item::before {content: \"\";position: absolute;border-left: 1px solid gray;box-sizing: border-box;top: 0;bottom: 0;left: 50%;z-index: -1;}#sk-container-id-4 div.sk-parallel-item {display: flex;flex-direction: column;z-index: 1;position: relative;background-color: white;}#sk-container-id-4 div.sk-parallel-item:first-child::after {align-self: flex-end;width: 50%;}#sk-container-id-4 div.sk-parallel-item:last-child::after {align-self: flex-start;width: 50%;}#sk-container-id-4 div.sk-parallel-item:only-child::after {width: 0;}#sk-container-id-4 div.sk-dashed-wrapped {border: 1px dashed gray;margin: 0 0.4em 0.5em 0.4em;box-sizing: border-box;padding-bottom: 0.4em;background-color: white;}#sk-container-id-4 div.sk-label label {font-family: monospace;font-weight: bold;display: inline-block;line-height: 1.2em;}#sk-container-id-4 div.sk-label-container {text-align: center;}#sk-container-id-4 div.sk-container {/* jupyter's `normalize.less` sets `[hidden] { display: none; }` but bootstrap.min.css set `[hidden] { display: none !important; }` so we also need the `!important` here to be able to override the default hidden behavior on the sphinx rendered scikit-learn.org. See: https://github.com/scikit-learn/scikit-learn/issues/21755 */display: inline-block !important;position: relative;}#sk-container-id-4 div.sk-text-repr-fallback {display: none;}</style><div id=\"sk-container-id-4\" class=\"sk-top-container\"><div class=\"sk-text-repr-fallback\"><pre>KNeighborsClassifier()</pre><b>In a Jupyter environment, please rerun this cell to show the HTML representation or trust the notebook. <br />On GitHub, the HTML representation is unable to render, please try loading this page with nbviewer.org.</b></div><div class=\"sk-container\" hidden><div class=\"sk-item\"><div class=\"sk-estimator sk-toggleable\"><input class=\"sk-toggleable__control sk-hidden--visually\" id=\"sk-estimator-id-4\" type=\"checkbox\" checked><label for=\"sk-estimator-id-4\" class=\"sk-toggleable__label sk-toggleable__label-arrow\">KNeighborsClassifier</label><div class=\"sk-toggleable__content\"><pre>KNeighborsClassifier()</pre></div></div></div></div></div>"
            ]
          },
          "metadata": {},
          "execution_count": 49
        }
      ]
    },
    {
      "cell_type": "code",
      "source": [
        "neigh.predict(new_data_list)"
      ],
      "metadata": {
        "colab": {
          "base_uri": "https://localhost:8080/"
        },
        "id": "q6NeJaV0AaxS",
        "outputId": "9fdfcf56-fdfd-4439-8b58-abf5c5f2a99b"
      },
      "execution_count": 50,
      "outputs": [
        {
          "output_type": "execute_result",
          "data": {
            "text/plain": [
              "array([0., 1., 0.])"
            ]
          },
          "metadata": {},
          "execution_count": 50
        }
      ]
    },
    {
      "cell_type": "markdown",
      "metadata": {
        "id": "RalSMYE-ekzY"
      },
      "source": [
        "## 3.2. Cross validation\n",
        "Berikutnya kita evaluasi model kita menggunakan *cross validation*. Sebagai catatan disini kita menggunakan nilai $k=10$ sebagai hyperparameter dan menggunakan scikit-learn untuk membantu melakukan K-fold cross validation."
      ]
    },
    {
      "cell_type": "code",
      "execution_count": 15,
      "metadata": {
        "colab": {
          "base_uri": "https://localhost:8080/"
        },
        "id": "WVwcJLByek8u",
        "outputId": "436904a2-2f5a-44e1-ffe2-269453b9d07e"
      },
      "outputs": [
        {
          "output_type": "stream",
          "name": "stdout",
          "text": [
            "average error:  0.08\n"
          ]
        }
      ],
      "source": [
        "from sklearn.model_selection import KFold\n",
        "\n",
        "K = 10\n",
        "n_fold = 10\n",
        "\n",
        "def cross_val_error(X, Y, k=K, k_kfold=n_fold):\n",
        "  kf = KFold(n_splits=k_kfold)\n",
        "  kf.get_n_splits(X)\n",
        "\n",
        "  total_error = 0\n",
        "  for train_index, test_index in kf.split(X):\n",
        "    X_train, X_test = X[train_index], X[test_index]\n",
        "    y_train, y_test = Y[train_index], Y[test_index]\n",
        "    y_pred = knn_predict(X_train, y_train, X_test,k)\n",
        "    error = np.sum(y_pred != y_test) / float(y_test.size)\n",
        "    total_error = total_error + error\n",
        "\n",
        "  return total_error/k_kfold\n",
        "\n",
        "print(\"average error: \", cross_val_error(X,Y))"
      ]
    },
    {
      "cell_type": "markdown",
      "metadata": {
        "id": "3XRS3868elcl"
      },
      "source": [
        "Apakah $k=10$ merupakan hyperparameter terbaik? Untuk mendapatkan $k$ terbaik atau dapat dikatakan pula menyeimbangkan bias-variance tradeoff, kita dapat melakukan pencarian dengan menguji performa KNN dengan cross validation dengan langkah sebagai berikut:\n",
        "\n",
        "1. Bagi data latih kedalam kfold set dengan ukuran yang sama secara acak\n",
        "2. Gunakan sebagian set sebagai data latih dan sisanya sebagai data validasi, sedemikian sehingga semua set digunakan sebagai data validasi setidaknya sekali.\n",
        "3. Pada tiap data validasi hitung errornya\n",
        "4. Dapatkan error rata-rata dari semua data validasi\n",
        "5. Pilih $k$ dengan rata-rata error paling kecil"
      ]
    },
    {
      "cell_type": "markdown",
      "metadata": {
        "id": "hwVZpUXfjx5o"
      },
      "source": [
        "Kita telah menulis fungsi menghitung rata-rata error tiap set validasi dari KFold ccross validation menggunakan scikit-learn di cell atas, \n",
        "sehingga sekarang kita tinggal menjalankan fungsi tersebut dengan nilai $k$ yang berbeda. Kita visualisasikan error yang didapat ketika nilai $k$ bervariasi dari 1 sampai dengan 25. "
      ]
    },
    {
      "cell_type": "code",
      "execution_count": 16,
      "metadata": {
        "colab": {
          "base_uri": "https://localhost:8080/",
          "height": 637
        },
        "id": "PT89_1Q9elkS",
        "outputId": "54000af5-1220-4219-f328-6081c5c005b2"
      },
      "outputs": [
        {
          "output_type": "stream",
          "name": "stdout",
          "text": [
            "best at k =  3\n"
          ]
        },
        {
          "output_type": "display_data",
          "data": {
            "text/plain": [
              "<Figure size 1000x700 with 1 Axes>"
            ],
            "image/png": "[encoded data removed]"
          },
          "metadata": {}
        }
      ],
      "source": [
        "error_k = [cross_val_error(X,Y,k) for k in np.arange(1,26)]\n",
        "plt.plot(np.arange(1,26),error_k)\n",
        "plt.xlabel(\"k\")\n",
        "plt.ylabel(\"error\")\n",
        "print(\"best at k = \",np.argmin(error_k)+1)"
      ]
    },
    {
      "cell_type": "markdown",
      "metadata": {
        "id": "mhZ7FIbzv8a1"
      },
      "source": [
        "Dapat kita lihat bahwa rata-rata error terkecil bisa kita dapatkan ketika $k$ bernilai 3."
      ]
    },
    {
      "cell_type": "markdown",
      "metadata": {
        "id": "Y4rjfhiIP509",
        "tags": []
      },
      "source": [
        "## 3.3. KNN sebagai model regresi"
      ]
    },
    {
      "cell_type": "markdown",
      "metadata": {
        "id": "DhZEKDLTRwe7"
      },
      "source": [
        "Pada Sub bab ini kita akan menggunakan KNN untuk kasus regresi. Tujuan dari penggunaan KNN kali ini untuk regresi nilai **Sales** dari 3 buah input yaitu pengeluaran iklan di **TV**, **Radio** dan **Newspaper**."
      ]
    },
    {
      "cell_type": "code",
      "execution_count": 17,
      "metadata": {
        "colab": {
          "base_uri": "https://localhost:8080/",
          "height": 206
        },
        "id": "Bo6hTGCTyVnL",
        "outputId": "d8297d0b-c530-4d54-8ef5-87f4f79d98a8"
      },
      "outputs": [
        {
          "output_type": "execute_result",
          "data": {
            "text/plain": [
              "   Unnamed: 0     TV  Radio  Newspaper  Sales\n",
              "0           1  230.1   37.8       69.2   22.1\n",
              "1           2   44.5   39.3       45.1   10.4\n",
              "2           3   17.2   45.9       69.3    9.3\n",
              "3           4  151.5   41.3       58.5   18.5\n",
              "4           5  180.8   10.8       58.4   12.9"
            ],
            "text/html": [
              "\n",
              "  <div id=\"df-3120edb6-c2af-4dac-8698-0732393f8115\">\n",
              "    <div class=\"colab-df-container\">\n",
              "      <div>\n",
              "<style scoped>\n",
              "    .dataframe tbody tr th:only-of-type {\n",
              "        vertical-align: middle;\n",
              "    }\n",
              "\n",
              "    .dataframe tbody tr th {\n",
              "        vertical-align: top;\n",
              "    }\n",
              "\n",
              "    .dataframe thead th {\n",
              "        text-align: right;\n",
              "    }\n",
              "</style>\n",
              "<table border=\"1\" class=\"dataframe\">\n",
              "  <thead>\n",
              "    <tr style=\"text-align: right;\">\n",
              "      <th></th>\n",
              "      <th>Unnamed: 0</th>\n",
              "      <th>TV</th>\n",
              "      <th>Radio</th>\n",
              "      <th>Newspaper</th>\n",
              "      <th>Sales</th>\n",
              "    </tr>\n",
              "  </thead>\n",
              "  <tbody>\n",
              "    <tr>\n",
              "      <th>0</th>\n",
              "      <td>1</td>\n",
              "      <td>230.1</td>\n",
              "      <td>37.8</td>\n",
              "      <td>69.2</td>\n",
              "      <td>22.1</td>\n",
              "    </tr>\n",
              "    <tr>\n",
              "      <th>1</th>\n",
              "      <td>2</td>\n",
              "      <td>44.5</td>\n",
              "      <td>39.3</td>\n",
              "      <td>45.1</td>\n",
              "      <td>10.4</td>\n",
              "    </tr>\n",
              "    <tr>\n",
              "      <th>2</th>\n",
              "      <td>3</td>\n",
              "      <td>17.2</td>\n",
              "      <td>45.9</td>\n",
              "      <td>69.3</td>\n",
              "      <td>9.3</td>\n",
              "    </tr>\n",
              "    <tr>\n",
              "      <th>3</th>\n",
              "      <td>4</td>\n",
              "      <td>151.5</td>\n",
              "      <td>41.3</td>\n",
              "      <td>58.5</td>\n",
              "      <td>18.5</td>\n",
              "    </tr>\n",
              "    <tr>\n",
              "      <th>4</th>\n",
              "      <td>5</td>\n",
              "      <td>180.8</td>\n",
              "      <td>10.8</td>\n",
              "      <td>58.4</td>\n",
              "      <td>12.9</td>\n",
              "    </tr>\n",
              "  </tbody>\n",
              "</table>\n",
              "</div>\n",
              "      <button class=\"colab-df-convert\" onclick=\"convertToInteractive('df-3120edb6-c2af-4dac-8698-0732393f8115')\"\n",
              "              title=\"Convert this dataframe to an interactive table.\"\n",
              "              style=\"display:none;\">\n",
              "        \n",
              "  <svg xmlns=\"http://www.w3.org/2000/svg\" height=\"24px\"viewBox=\"0 0 24 24\"\n",
              "       width=\"24px\">\n",
              "    <path d=\"M0 0h24v24H0V0z\" fill=\"none\"/>\n",
              "    <path d=\"M18.56 5.44l.94 2.06.94-2.06 2.06-.94-2.06-.94-.94-2.06-.94 2.06-2.06.94zm-11 1L8.5 8.5l.94-2.06 2.06-.94-2.06-.94L8.5 2.5l-.94 2.06-2.06.94zm10 10l.94 2.06.94-2.06 2.06-.94-2.06-.94-.94-2.06-.94 2.06-2.06.94z\"/><path d=\"M17.41 7.96l-1.37-1.37c-.4-.4-.92-.59-1.43-.59-.52 0-1.04.2-1.43.59L10.3 9.45l-7.72 7.72c-.78.78-.78 2.05 0 2.83L4 21.41c.39.39.9.59 1.41.59.51 0 1.02-.2 1.41-.59l7.78-7.78 2.81-2.81c.8-.78.8-2.07 0-2.86zM5.41 20L4 18.59l7.72-7.72 1.47 1.35L5.41 20z\"/>\n",
              "  </svg>\n",
              "      </button>\n",
              "      \n",
              "  <style>\n",
              "    .colab-df-container {\n",
              "      display:flex;\n",
              "      flex-wrap:wrap;\n",
              "      gap: 12px;\n",
              "    }\n",
              "\n",
              "    .colab-df-convert {\n",
              "      background-color: #E8F0FE;\n",
              "      border: none;\n",
              "      border-radius: 50%;\n",
              "      cursor: pointer;\n",
              "      display: none;\n",
              "      fill: #1967D2;\n",
              "      height: 32px;\n",
              "      padding: 0 0 0 0;\n",
              "      width: 32px;\n",
              "    }\n",
              "\n",
              "    .colab-df-convert:hover {\n",
              "      background-color: #E2EBFA;\n",
              "      box-shadow: 0px 1px 2px rgba(60, 64, 67, 0.3), 0px 1px 3px 1px rgba(60, 64, 67, 0.15);\n",
              "      fill: #174EA6;\n",
              "    }\n",
              "\n",
              "    [theme=dark] .colab-df-convert {\n",
              "      background-color: #3B4455;\n",
              "      fill: #D2E3FC;\n",
              "    }\n",
              "\n",
              "    [theme=dark] .colab-df-convert:hover {\n",
              "      background-color: #434B5C;\n",
              "      box-shadow: 0px 1px 3px 1px rgba(0, 0, 0, 0.15);\n",
              "      filter: drop-shadow(0px 1px 2px rgba(0, 0, 0, 0.3));\n",
              "      fill: #FFFFFF;\n",
              "    }\n",
              "  </style>\n",
              "\n",
              "      <script>\n",
              "        const buttonEl =\n",
              "          document.querySelector('#df-3120edb6-c2af-4dac-8698-0732393f8115 button.colab-df-convert');\n",
              "        buttonEl.style.display =\n",
              "          google.colab.kernel.accessAllowed ? 'block' : 'none';\n",
              "\n",
              "        async function convertToInteractive(key) {\n",
              "          const element = document.querySelector('#df-3120edb6-c2af-4dac-8698-0732393f8115');\n",
              "          const dataTable =\n",
              "            await google.colab.kernel.invokeFunction('convertToInteractive',\n",
              "                                                     [key], {});\n",
              "          if (!dataTable) return;\n",
              "\n",
              "          const docLinkHtml = 'Like what you see? Visit the ' +\n",
              "            '<a target=\"_blank\" href=https://colab.research.google.com/notebooks/data_table.ipynb>data table notebook</a>'\n",
              "            + ' to learn more about interactive tables.';\n",
              "          element.innerHTML = '';\n",
              "          dataTable['output_type'] = 'display_data';\n",
              "          await google.colab.output.renderOutput(dataTable, element);\n",
              "          const docLink = document.createElement('div');\n",
              "          docLink.innerHTML = docLinkHtml;\n",
              "          element.appendChild(docLink);\n",
              "        }\n",
              "      </script>\n",
              "    </div>\n",
              "  </div>\n",
              "  "
            ]
          },
          "metadata": {},
          "execution_count": 17
        }
      ],
      "source": [
        "# Load data\n",
        "salesdata = pd.read_csv('https://raw.githubusercontent.com/JWarmenhoven/ISLR-python/master/Notebooks/Data/Advertising.csv')\n",
        "X = salesdata[[\"TV\",\"Radio\",\"Newspaper\"]].to_numpy()\n",
        "Y = salesdata[\"Sales\"].to_numpy()\n",
        "\n",
        "# Tampilkan 5 data pertama\n",
        "salesdata.head(5)"
      ]
    },
    {
      "cell_type": "markdown",
      "metadata": {
        "id": "btysqOks3NGq"
      },
      "source": [
        "Summary statistik dari data kita adalah sebagai berikut:"
      ]
    },
    {
      "cell_type": "code",
      "execution_count": 18,
      "metadata": {
        "colab": {
          "base_uri": "https://localhost:8080/",
          "height": 300
        },
        "id": "HMb4fwG03Lzr",
        "outputId": "7cd954b3-56a0-4ba7-a6e8-eda40e9a02bc"
      },
      "outputs": [
        {
          "output_type": "execute_result",
          "data": {
            "text/plain": [
              "       Unnamed: 0          TV       Radio   Newspaper       Sales\n",
              "count  200.000000  200.000000  200.000000  200.000000  200.000000\n",
              "mean   100.500000  147.042500   23.264000   30.554000   14.022500\n",
              "std     57.879185   85.854236   14.846809   21.778621    5.217457\n",
              "min      1.000000    0.700000    0.000000    0.300000    1.600000\n",
              "25%     50.750000   74.375000    9.975000   12.750000   10.375000\n",
              "50%    100.500000  149.750000   22.900000   25.750000   12.900000\n",
              "75%    150.250000  218.825000   36.525000   45.100000   17.400000\n",
              "max    200.000000  296.400000   49.600000  114.000000   27.000000"
            ],
            "text/html": [
              "\n",
              "  <div id=\"df-3accb19d-05a6-45b0-a269-d47b50b09fe8\">\n",
              "    <div class=\"colab-df-container\">\n",
              "      <div>\n",
              "<style scoped>\n",
              "    .dataframe tbody tr th:only-of-type {\n",
              "        vertical-align: middle;\n",
              "    }\n",
              "\n",
              "    .dataframe tbody tr th {\n",
              "        vertical-align: top;\n",
              "    }\n",
              "\n",
              "    .dataframe thead th {\n",
              "        text-align: right;\n",
              "    }\n",
              "</style>\n",
              "<table border=\"1\" class=\"dataframe\">\n",
              "  <thead>\n",
              "    <tr style=\"text-align: right;\">\n",
              "      <th></th>\n",
              "      <th>Unnamed: 0</th>\n",
              "      <th>TV</th>\n",
              "      <th>Radio</th>\n",
              "      <th>Newspaper</th>\n",
              "      <th>Sales</th>\n",
              "    </tr>\n",
              "  </thead>\n",
              "  <tbody>\n",
              "    <tr>\n",
              "      <th>count</th>\n",
              "      <td>200.000000</td>\n",
              "      <td>200.000000</td>\n",
              "      <td>200.000000</td>\n",
              "      <td>200.000000</td>\n",
              "      <td>200.000000</td>\n",
              "    </tr>\n",
              "    <tr>\n",
              "      <th>mean</th>\n",
              "      <td>100.500000</td>\n",
              "      <td>147.042500</td>\n",
              "      <td>23.264000</td>\n",
              "      <td>30.554000</td>\n",
              "      <td>14.022500</td>\n",
              "    </tr>\n",
              "    <tr>\n",
              "      <th>std</th>\n",
              "      <td>57.879185</td>\n",
              "      <td>85.854236</td>\n",
              "      <td>14.846809</td>\n",
              "      <td>21.778621</td>\n",
              "      <td>5.217457</td>\n",
              "    </tr>\n",
              "    <tr>\n",
              "      <th>min</th>\n",
              "      <td>1.000000</td>\n",
              "      <td>0.700000</td>\n",
              "      <td>0.000000</td>\n",
              "      <td>0.300000</td>\n",
              "      <td>1.600000</td>\n",
              "    </tr>\n",
              "    <tr>\n",
              "      <th>25%</th>\n",
              "      <td>50.750000</td>\n",
              "      <td>74.375000</td>\n",
              "      <td>9.975000</td>\n",
              "      <td>12.750000</td>\n",
              "      <td>10.375000</td>\n",
              "    </tr>\n",
              "    <tr>\n",
              "      <th>50%</th>\n",
              "      <td>100.500000</td>\n",
              "      <td>149.750000</td>\n",
              "      <td>22.900000</td>\n",
              "      <td>25.750000</td>\n",
              "      <td>12.900000</td>\n",
              "    </tr>\n",
              "    <tr>\n",
              "      <th>75%</th>\n",
              "      <td>150.250000</td>\n",
              "      <td>218.825000</td>\n",
              "      <td>36.525000</td>\n",
              "      <td>45.100000</td>\n",
              "      <td>17.400000</td>\n",
              "    </tr>\n",
              "    <tr>\n",
              "      <th>max</th>\n",
              "      <td>200.000000</td>\n",
              "      <td>296.400000</td>\n",
              "      <td>49.600000</td>\n",
              "      <td>114.000000</td>\n",
              "      <td>27.000000</td>\n",
              "    </tr>\n",
              "  </tbody>\n",
              "</table>\n",
              "</div>\n",
              "      <button class=\"colab-df-convert\" onclick=\"convertToInteractive('df-3accb19d-05a6-45b0-a269-d47b50b09fe8')\"\n",
              "              title=\"Convert this dataframe to an interactive table.\"\n",
              "              style=\"display:none;\">\n",
              "        \n",
              "  <svg xmlns=\"http://www.w3.org/2000/svg\" height=\"24px\"viewBox=\"0 0 24 24\"\n",
              "       width=\"24px\">\n",
              "    <path d=\"M0 0h24v24H0V0z\" fill=\"none\"/>\n",
              "    <path d=\"M18.56 5.44l.94 2.06.94-2.06 2.06-.94-2.06-.94-.94-2.06-.94 2.06-2.06.94zm-11 1L8.5 8.5l.94-2.06 2.06-.94-2.06-.94L8.5 2.5l-.94 2.06-2.06.94zm10 10l.94 2.06.94-2.06 2.06-.94-2.06-.94-.94-2.06-.94 2.06-2.06.94z\"/><path d=\"M17.41 7.96l-1.37-1.37c-.4-.4-.92-.59-1.43-.59-.52 0-1.04.2-1.43.59L10.3 9.45l-7.72 7.72c-.78.78-.78 2.05 0 2.83L4 21.41c.39.39.9.59 1.41.59.51 0 1.02-.2 1.41-.59l7.78-7.78 2.81-2.81c.8-.78.8-2.07 0-2.86zM5.41 20L4 18.59l7.72-7.72 1.47 1.35L5.41 20z\"/>\n",
              "  </svg>\n",
              "      </button>\n",
              "      \n",
              "  <style>\n",
              "    .colab-df-container {\n",
              "      display:flex;\n",
              "      flex-wrap:wrap;\n",
              "      gap: 12px;\n",
              "    }\n",
              "\n",
              "    .colab-df-convert {\n",
              "      background-color: #E8F0FE;\n",
              "      border: none;\n",
              "      border-radius: 50%;\n",
              "      cursor: pointer;\n",
              "      display: none;\n",
              "      fill: #1967D2;\n",
              "      height: 32px;\n",
              "      padding: 0 0 0 0;\n",
              "      width: 32px;\n",
              "    }\n",
              "\n",
              "    .colab-df-convert:hover {\n",
              "      background-color: #E2EBFA;\n",
              "      box-shadow: 0px 1px 2px rgba(60, 64, 67, 0.3), 0px 1px 3px 1px rgba(60, 64, 67, 0.15);\n",
              "      fill: #174EA6;\n",
              "    }\n",
              "\n",
              "    [theme=dark] .colab-df-convert {\n",
              "      background-color: #3B4455;\n",
              "      fill: #D2E3FC;\n",
              "    }\n",
              "\n",
              "    [theme=dark] .colab-df-convert:hover {\n",
              "      background-color: #434B5C;\n",
              "      box-shadow: 0px 1px 3px 1px rgba(0, 0, 0, 0.15);\n",
              "      filter: drop-shadow(0px 1px 2px rgba(0, 0, 0, 0.3));\n",
              "      fill: #FFFFFF;\n",
              "    }\n",
              "  </style>\n",
              "\n",
              "      <script>\n",
              "        const buttonEl =\n",
              "          document.querySelector('#df-3accb19d-05a6-45b0-a269-d47b50b09fe8 button.colab-df-convert');\n",
              "        buttonEl.style.display =\n",
              "          google.colab.kernel.accessAllowed ? 'block' : 'none';\n",
              "\n",
              "        async function convertToInteractive(key) {\n",
              "          const element = document.querySelector('#df-3accb19d-05a6-45b0-a269-d47b50b09fe8');\n",
              "          const dataTable =\n",
              "            await google.colab.kernel.invokeFunction('convertToInteractive',\n",
              "                                                     [key], {});\n",
              "          if (!dataTable) return;\n",
              "\n",
              "          const docLinkHtml = 'Like what you see? Visit the ' +\n",
              "            '<a target=\"_blank\" href=https://colab.research.google.com/notebooks/data_table.ipynb>data table notebook</a>'\n",
              "            + ' to learn more about interactive tables.';\n",
              "          element.innerHTML = '';\n",
              "          dataTable['output_type'] = 'display_data';\n",
              "          await google.colab.output.renderOutput(dataTable, element);\n",
              "          const docLink = document.createElement('div');\n",
              "          docLink.innerHTML = docLinkHtml;\n",
              "          element.appendChild(docLink);\n",
              "        }\n",
              "      </script>\n",
              "    </div>\n",
              "  </div>\n",
              "  "
            ]
          },
          "metadata": {},
          "execution_count": 18
        }
      ],
      "source": [
        "salesdata.describe()"
      ]
    },
    {
      "cell_type": "markdown",
      "metadata": {
        "id": "fxpe2E9P1Log"
      },
      "source": [
        "Kita bagi datanya menjadi data latih dan data uji dengan rasio 7:3"
      ]
    },
    {
      "cell_type": "code",
      "execution_count": 19,
      "metadata": {
        "id": "roCbVuhe1pjY"
      },
      "outputs": [],
      "source": [
        "from sklearn.model_selection import train_test_split\n",
        "\n",
        "X_train, X_test, y_train, y_test = train_test_split(X, Y, test_size=0.30, random_state=87)"
      ]
    },
    {
      "cell_type": "markdown",
      "metadata": {
        "id": "9-VryTFTx8CX"
      },
      "source": [
        "Secara algoritma, regresi menggunakan KNN hampir sama dengan kasus klasifikasi. Oleh karena itu kita dapat menggunakan fungsi `distance` dan `knn` dari sub bab `3.1`. Yang membedakan adalah output dari prediksinya. Dalam kasus regresi, kita dapat mengambil nilai rerata dari $k$ titik tetangga terdekat dengan data baru yang ingin kita prediksi nilai outputnya. Secara matematis dapat dituliskan sebagai berikut:\n",
        "\n",
        "$$\n",
        "\\hat{f}\\left(x_{0}\\right)=\\frac{1}{K} \\sum_{i \\in \\mathcal{N}_{S_x}} y_{i}\n",
        "$$"
      ]
    },
    {
      "cell_type": "markdown",
      "metadata": {
        "id": "VS5BT904R4u6"
      },
      "source": [
        "Maka fungsi untuk mengambil rata rata dari $k$-data untuk memprediksi output data baru dapat dituliskan sebagai berikut:"
      ]
    },
    {
      "cell_type": "code",
      "execution_count": 20,
      "metadata": {
        "id": "buXOlwlASn6K"
      },
      "outputs": [],
      "source": [
        "def knn_predict(X_train, y_train, x_new_list, k=10):\n",
        "  \"\"\"\n",
        "  X_train: N x d array data training\n",
        "  y_train: N x 1 array label training\n",
        "  x_new_list  : N x d array data baru\n",
        "  \"\"\"\n",
        "  \n",
        "  y_pred_list = []\n",
        "\n",
        "  for x_new in x_new_list:\n",
        "    indices, distances = knn(X_train, x_new[None,:], k)\n",
        "    y_train_k = y_train[indices]\n",
        "    y_pred_list.append(np.sum(y_train_k)/k)\n",
        "  \n",
        "  return np.array(y_pred_list)"
      ]
    },
    {
      "cell_type": "markdown",
      "metadata": {
        "id": "SS4oQUca5MwW"
      },
      "source": [
        "Untuk mengevaluasi model kita kita dapat menghitung Root Mean Square Error(RMSE) dari prediksi model kita dengan nilai output data testing sebenarnya."
      ]
    },
    {
      "cell_type": "code",
      "execution_count": 21,
      "metadata": {
        "id": "4EokFfE0401V",
        "colab": {
          "base_uri": "https://localhost:8080/"
        },
        "outputId": "03eebc45-f08e-415b-ac6f-bb4ce2e8bc5a"
      },
      "outputs": [
        {
          "output_type": "execute_result",
          "data": {
            "text/plain": [
              "1.8596966598525326"
            ]
          },
          "metadata": {},
          "execution_count": 21
        }
      ],
      "source": [
        "# Jawab:\n",
        "\n",
        "k = 10\n",
        "\n",
        "# hasil prediksi:\n",
        "y_pred = knn_predict(X_train, y_train, X_test, k)\n",
        "\n",
        "# Hitung RMSE dari y_pred\n",
        "np.sqrt(np.mean((y_pred - y_test)**2))\n"
      ]
    },
    {
      "cell_type": "markdown",
      "metadata": {
        "id": "MEoBeH3SHq0q"
      },
      "source": [
        "Untuk memvisualisasikannya kita dapat menggunakan pair plot sederhana antara nilai sebenarnya dengan prediksi dari KNN kita:"
      ]
    },
    {
      "cell_type": "code",
      "execution_count": 22,
      "metadata": {
        "id": "Lteeh96pBddu",
        "colab": {
          "base_uri": "https://localhost:8080/",
          "height": 637
        },
        "outputId": "f2e44479-dc8f-474a-bfe0-f8e20eb1c8a2"
      },
      "outputs": [
        {
          "output_type": "execute_result",
          "data": {
            "text/plain": [
              "<matplotlib.legend.Legend at 0x7f5caa53ba00>"
            ]
          },
          "metadata": {},
          "execution_count": 22
        },
        {
          "output_type": "display_data",
          "data": {
            "text/plain": [
              "<Figure size 1000x700 with 1 Axes>"
            ],
            "image/png": "[encoded data removed]"
          },
          "metadata": {}
        }
      ],
      "source": [
        "plt.plot(y_test,y_test, label=\"true value\")\n",
        "plt.scatter(y_pred, y_test)\n",
        "plt.xlabel(\"Sales prediction\")\n",
        "plt.ylabel(\"True sales value\")\n",
        "plt.legend()"
      ]
    },
    {
      "cell_type": "markdown",
      "metadata": {
        "id": "Jk7s0ZT7Hsqg"
      },
      "source": [
        "Jika implemetasi Anda benar maka hasil dari scatter plot dekat dengan garis true value."
      ]
    },
    {
      "cell_type": "markdown",
      "metadata": {
        "id": "BoUIjXPG7GEw"
      },
      "source": [
        "## 3.4. Cross validation untuk mendapatkan nilai k optimum\n",
        "Kita juga dapat melakukan cross validation seperti di Sub bab 3.2 untuk mendapatkan nilai $k$ terbaik. Perbedaannya adalah penggunaan RMSE untuk menghitung error."
      ]
    },
    {
      "cell_type": "code",
      "execution_count": 23,
      "metadata": {
        "id": "glf2uPtv7MTn",
        "colab": {
          "base_uri": "https://localhost:8080/"
        },
        "outputId": "a291374d-f879-4d56-c920-d9109133f0ba"
      },
      "outputs": [
        {
          "output_type": "stream",
          "name": "stdout",
          "text": [
            "RMSE on 10-Fold :  1.919062224407569\n"
          ]
        }
      ],
      "source": [
        "from sklearn.model_selection import KFold\n",
        "\n",
        "K = 10\n",
        "n_fold = 10\n",
        "\n",
        "def cross_val_evaluation(X, Y, k=K, k_kfold=n_fold):\n",
        "  kf = KFold(n_splits=k_kfold)\n",
        "  kf.get_n_splits(X)\n",
        "\n",
        "  total_error = 0\n",
        "  rmsetotal = 0\n",
        "  for train_index, test_index in kf.split(X):\n",
        "    X_train, X_test = X[train_index], X[test_index]\n",
        "    y_train, y_test = Y[train_index], Y[test_index]\n",
        "    y_pred = knn_predict(X_train, y_train, X_test,k)\n",
        "    rmsetotal = rmsetotal+np.sqrt(np.mean((y_pred-y_test)**2)) \n",
        "\n",
        "  return rmsetotal/k_kfold\n",
        "\n",
        "print(f\"RMSE on {n_fold}-Fold : \", cross_val_evaluation(X_train,y_train))"
      ]
    },
    {
      "cell_type": "markdown",
      "metadata": {
        "id": "J08ACpgJ--4h"
      },
      "source": [
        "Sekarang kita plot nilai RMSE pada cross validation yang kita lakukan dari $k=1$ sampai dengan $k=21$."
      ]
    },
    {
      "cell_type": "code",
      "execution_count": 24,
      "metadata": {
        "id": "MbtAnSCy-_R6",
        "colab": {
          "base_uri": "https://localhost:8080/",
          "height": 637
        },
        "outputId": "79dc0482-52eb-4039-ba89-470ab3f273d7"
      },
      "outputs": [
        {
          "output_type": "stream",
          "name": "stdout",
          "text": [
            "best at k =  2\n"
          ]
        },
        {
          "output_type": "display_data",
          "data": {
            "text/plain": [
              "<Figure size 1000x700 with 1 Axes>"
            ],
            "image/png": "[encoded data removed]"
          },
          "metadata": {}
        }
      ],
      "source": [
        "error_k = [cross_val_evaluation(X_train,y_train,k) for k in np.arange(1,21)]\n",
        "plt.plot(np.arange(1,21),error_k)\n",
        "plt.xlabel(\"k\")\n",
        "plt.ylabel(\"average rmse (smaller better)\")\n",
        "best_k = np.argmin(error_k)+1\n",
        "print(\"best at k = \", best_k)"
      ]
    },
    {
      "cell_type": "markdown",
      "metadata": {
        "id": "KLJ0hGN_I2Ey"
      },
      "source": [
        "Dari plot diatas kita bisa melihat tidak ada perbedaan signifikan dibanding dengan kasus klasifikasi. Bias-variance tradeoff juga terjadi di kasus regressi. \n",
        "\n",
        "Sekarang setelah mendapatkan nilai k terbaik mari kita cek RMSE dan pair plot dari hasil prediksi kita pada data testing!"
      ]
    },
    {
      "cell_type": "code",
      "execution_count": 25,
      "metadata": {
        "id": "2GKaGs9_KB3n",
        "colab": {
          "base_uri": "https://localhost:8080/",
          "height": 637
        },
        "outputId": "e15615bc-2cb8-44f9-9f8f-8286ae4a997b"
      },
      "outputs": [
        {
          "output_type": "stream",
          "name": "stdout",
          "text": [
            "RMSE: 1.5148707315587473\n"
          ]
        },
        {
          "output_type": "display_data",
          "data": {
            "text/plain": [
              "<Figure size 1000x700 with 1 Axes>"
            ],
            "image/png": "[encoded data removed]"
          },
          "metadata": {}
        }
      ],
      "source": [
        "y_pred = knn_predict(X_train, y_train, X_test, best_k)\n",
        "plt.plot(y_test,y_test, label=\"true value\")\n",
        "plt.scatter(y_pred, y_test)\n",
        "plt.xlabel(\"Sales prediction\")\n",
        "plt.ylabel(\"True sales value\")\n",
        "plt.legend()\n",
        "print(\"RMSE:\",np.sqrt(np.mean((y_pred-y_test)**2)))"
      ]
    },
    {
      "cell_type": "markdown",
      "metadata": {
        "id": "C7uInXcaKkmY"
      },
      "source": [
        "Bandingkan dengan ketika $k=10$. RMSE semakin baik (Lebih kecil)! "
      ]
    },
    {
      "cell_type": "markdown",
      "metadata": {
        "id": "N2a2PjCK_Nqh"
      },
      "source": [
        "## Nilai k dan generalisasi model\n",
        "\n",
        "Ingat kembali pengaruh nilai K terhadap hasil KNN di Sub bab `2.2`. Dari eksperimen dengan mengubah nilai K kita dapat melihat bahwa \n",
        "* ketika $k=1$ model kita menjadi sangat fleksibel, sehingga terjadi overfitting terhadap data kita. \n",
        "* ketika $k$ semakin besar KNN menjadi semakin tidak fleksible terhadap data kita dan decision boundary kita terlihat semakin linear, mengindikasikan underfitting pada KNN kita. \n",
        "\n",
        "Mari kita plot performa data kita dengan mengavaluasi nilai $k = 1$ sampai dengan $k=10$ lalu hitung nilai RMSE pada data latih dan data uji. Kita gunakan $1/k$ di sumbu $x$ untuk mengindikasikan fleksibilitas dari model kita. Semakin besar maka model semakin fleksibel."
      ]
    },
    {
      "cell_type": "code",
      "execution_count": 26,
      "metadata": {
        "id": "AP-ljTEu_N_A",
        "colab": {
          "base_uri": "https://localhost:8080/",
          "height": 637
        },
        "outputId": "76ad25cb-8b61-4098-e85c-591413e1fdc5"
      },
      "outputs": [
        {
          "output_type": "execute_result",
          "data": {
            "text/plain": [
              "<matplotlib.legend.Legend at 0x7f5caa4cda50>"
            ]
          },
          "metadata": {},
          "execution_count": 26
        },
        {
          "output_type": "display_data",
          "data": {
            "text/plain": [
              "<Figure size 1000x700 with 1 Axes>"
            ],
            "image/png": "[encoded data removed]"
          },
          "metadata": {}
        }
      ],
      "source": [
        "rmse_test = []\n",
        "rmse_train = []\n",
        "for k in np.arange(1,11):\n",
        "  y_pred_test = knn_predict(X_train, y_train, X_test,k)\n",
        "  y_pred_train = knn_predict(X_train, y_train, X_train,k)\n",
        "\n",
        "  rmse_test.append( np.sqrt(np.mean((y_pred_test-y_test)**2)))\n",
        "  rmse_train.append( np.sqrt(np.mean((y_pred_train-y_train)**2)))\n",
        "  \n",
        "plt.plot(1/np.arange(1,11)[:-1],rmse_test[:-1],label=\"test RMSE\")\n",
        "plt.plot(1/np.arange(1,11)[:-1],rmse_train[:-1],label=\"train RMSE\")\n",
        "plt.xlabel(\"1/k (flexibility)\")\n",
        "plt.ylabel(\"RMSE\")\n",
        "plt.legend()"
      ]
    },
    {
      "cell_type": "markdown",
      "metadata": {
        "id": "30Vg9-qCOAZk"
      },
      "source": [
        "Saat $1/k = 1$ kita dapat melihat bahwa RMSE untuk data training = 0 namun test RMSE nya tidak lebih rendah saat $1/k=0.2$. Hal ini memperlihatkan bahwa terjadi overfit terhadap data.\n",
        "\n",
        "Saat $1/k$ mendekati 0, RMSE dari data training dan data testing sama-sama naik. Dalam keadaan ini model kita mengalami underfitting."
      ]
    },
    {
      "cell_type": "markdown",
      "metadata": {
        "tags": [],
        "id": "EYZbB5Cpv8bC"
      },
      "source": [
        "# Laporan Akhir"
      ]
    },
    {
      "cell_type": "markdown",
      "metadata": {
        "id": "doJK97Aav8bC"
      },
      "source": [
        "- Cari dataset lain untuk kasus klasifikasi dan regresi. Lakukan pre-processing data jika diperlukan.\n",
        "- Tuliskan sumber dataset yang anda pakai.\n",
        "- Jelaskan secara singkat mengenai isi dari dataset tersebut.\n",
        "- Cari nilai $k$ terbaik dengan cross validation, untuk kedua kasus tersebut.\n",
        "- Gunakan nilai $k$ terbaik tersebut lalu itung performance dari hasil prediksi. Gunakan metrik yang sesuai.\n",
        "- Tulis kesimpulan\n",
        "\n",
        "Note : Mohon untuk memberikan keterangan dari setiap kolom kode yang dijalankan pada file .ipynb\n"
      ]
    }
  ],
  "metadata": {
    "kernelspec": {
      "display_name": "Python 3 (ipykernel)",
      "language": "python",
      "name": "python3"
    },
    "language_info": {
      "codemirror_mode": {
        "name": "ipython",
        "version": 3
      },
      "file_extension": ".py",
      "mimetype": "text/x-python",
      "name": "python",
      "nbconvert_exporter": "python",
      "pygments_lexer": "ipython3",
      "version": "3.9.7"
    },
    "colab": {
      "provenance": []
    },
    "widgets": {
      "application/vnd.jupyter.widget-state+json": {
        "6d33f8b6c53645fa8e1f3ba9a0ecc2c5": {
          "model_module": "@jupyter-widgets/controls",
          "model_name": "VBoxModel",
          "model_module_version": "1.5.0",
          "state": {
            "_dom_classes": [
              "widget-interact"
            ],
            "_model_module": "@jupyter-widgets/controls",
            "_model_module_version": "1.5.0",
            "_model_name": "VBoxModel",
            "_view_count": null,
            "_view_module": "@jupyter-widgets/controls",
            "_view_module_version": "1.5.0",
            "_view_name": "VBoxView",
            "box_style": "",
            "children": [
              "IPY_MODEL_1dccfe7ca8384df39892430c28d6f655",
              "IPY_MODEL_02e1975e9e60436ca1f5fa2fb6a97c26"
            ],
            "layout": "IPY_MODEL_06e542acae914478ad6a248448fc078c"
          }
        },
        "1dccfe7ca8384df39892430c28d6f655": {
          "model_module": "@jupyter-widgets/controls",
          "model_name": "DropdownModel",
          "model_module_version": "1.5.0",
          "state": {
            "_dom_classes": [],
            "_model_module": "@jupyter-widgets/controls",
            "_model_module_version": "1.5.0",
            "_model_name": "DropdownModel",
            "_options_labels": [
              "1",
              "2",
              "3",
              "4",
              "5",
              "6",
              "7",
              "8",
              "9",
              "10"
            ],
            "_view_count": null,
            "_view_module": "@jupyter-widgets/controls",
            "_view_module_version": "1.5.0",
            "_view_name": "DropdownView",
            "description": "k",
            "description_tooltip": null,
            "disabled": false,
            "index": 0,
            "layout": "IPY_MODEL_319ba8ebb4284679bdf69d0bac8d4522",
            "style": "IPY_MODEL_1a0db66bf15d4793afe59f76375525bc"
          }
        },
        "02e1975e9e60436ca1f5fa2fb6a97c26": {
          "model_module": "@jupyter-widgets/output",
          "model_name": "OutputModel",
          "model_module_version": "1.0.0",
          "state": {
            "_dom_classes": [],
            "_model_module": "@jupyter-widgets/output",
            "_model_module_version": "1.0.0",
            "_model_name": "OutputModel",
            "_view_count": null,
            "_view_module": "@jupyter-widgets/output",
            "_view_module_version": "1.0.0",
            "_view_name": "OutputView",
            "layout": "IPY_MODEL_07ce4bd2599e4407ab2aaa855eab3568",
            "msg_id": "",
            "outputs": [
              {
                "output_type": "error",
                "ename": "TypeError",
                "evalue": "ignored",
                "traceback": [
                  "\u001b[0;31m---------------------------------------------------------------------------\u001b[0m",
                  "\u001b[0;31mTypeError\u001b[0m                                 Traceback (most recent call last)",
                  "\u001b[0;32m/usr/local/lib/python3.10/dist-packages/ipywidgets/widgets/interaction.py\u001b[0m in \u001b[0;36mupdate\u001b[0;34m(self, *args)\u001b[0m\n\u001b[1;32m    255\u001b[0m                     \u001b[0mvalue\u001b[0m \u001b[0;34m=\u001b[0m \u001b[0mwidget\u001b[0m\u001b[0;34m.\u001b[0m\u001b[0mget_interact_value\u001b[0m\u001b[0;34m(\u001b[0m\u001b[0;34m)\u001b[0m\u001b[0;34m\u001b[0m\u001b[0;34m\u001b[0m\u001b[0m\n\u001b[1;32m    256\u001b[0m                     \u001b[0mself\u001b[0m\u001b[0;34m.\u001b[0m\u001b[0mkwargs\u001b[0m\u001b[0;34m[\u001b[0m\u001b[0mwidget\u001b[0m\u001b[0;34m.\u001b[0m\u001b[0m_kwarg\u001b[0m\u001b[0;34m]\u001b[0m \u001b[0;34m=\u001b[0m \u001b[0mvalue\u001b[0m\u001b[0;34m\u001b[0m\u001b[0;34m\u001b[0m\u001b[0m\n\u001b[0;32m--> 257\u001b[0;31m                 \u001b[0mself\u001b[0m\u001b[0;34m.\u001b[0m\u001b[0mresult\u001b[0m \u001b[0;34m=\u001b[0m \u001b[0mself\u001b[0m\u001b[0;34m.\u001b[0m\u001b[0mf\u001b[0m\u001b[0;34m(\u001b[0m\u001b[0;34m**\u001b[0m\u001b[0mself\u001b[0m\u001b[0;34m.\u001b[0m\u001b[0mkwargs\u001b[0m\u001b[0;34m)\u001b[0m\u001b[0;34m\u001b[0m\u001b[0;34m\u001b[0m\u001b[0m\n\u001b[0m\u001b[1;32m    258\u001b[0m                 \u001b[0mshow_inline_matplotlib_plots\u001b[0m\u001b[0;34m(\u001b[0m\u001b[0;34m)\u001b[0m\u001b[0;34m\u001b[0m\u001b[0;34m\u001b[0m\u001b[0m\n\u001b[1;32m    259\u001b[0m                 \u001b[0;32mif\u001b[0m \u001b[0mself\u001b[0m\u001b[0;34m.\u001b[0m\u001b[0mauto_display\u001b[0m \u001b[0;32mand\u001b[0m \u001b[0mself\u001b[0m\u001b[0;34m.\u001b[0m\u001b[0mresult\u001b[0m \u001b[0;32mis\u001b[0m \u001b[0;32mnot\u001b[0m \u001b[0;32mNone\u001b[0m\u001b[0;34m:\u001b[0m\u001b[0;34m\u001b[0m\u001b[0;34m\u001b[0m\u001b[0m\n",
                  "\u001b[0;32m<ipython-input-39-193c3a558c1b>\u001b[0m in \u001b[0;36mknn_comparison\u001b[0;34m(k)\u001b[0m\n\u001b[1;32m     14\u001b[0m   \u001b[0mclf\u001b[0m \u001b[0;34m=\u001b[0m \u001b[0mneighbors\u001b[0m\u001b[0;34m.\u001b[0m\u001b[0mKNeighborsClassifier\u001b[0m\u001b[0;34m(\u001b[0m\u001b[0mn_neighbors\u001b[0m\u001b[0;34m=\u001b[0m\u001b[0mk\u001b[0m\u001b[0;34m)\u001b[0m\u001b[0;34m\u001b[0m\u001b[0;34m\u001b[0m\u001b[0m\n\u001b[1;32m     15\u001b[0m   \u001b[0mclf\u001b[0m\u001b[0;34m.\u001b[0m\u001b[0mfit\u001b[0m\u001b[0;34m(\u001b[0m\u001b[0mx\u001b[0m\u001b[0;34m,\u001b[0m \u001b[0my\u001b[0m\u001b[0;34m)\u001b[0m\u001b[0;34m\u001b[0m\u001b[0;34m\u001b[0m\u001b[0m\n\u001b[0;32m---> 16\u001b[0;31m   \u001b[0mplot_decision_regions\u001b[0m\u001b[0;34m(\u001b[0m\u001b[0mx\u001b[0m\u001b[0;34m,\u001b[0m \u001b[0my\u001b[0m\u001b[0;34m,\u001b[0m \u001b[0mclf\u001b[0m\u001b[0;34m=\u001b[0m\u001b[0mclf\u001b[0m\u001b[0;34m,\u001b[0m \u001b[0mlegend\u001b[0m\u001b[0;34m=\u001b[0m\u001b[0;36m2\u001b[0m\u001b[0;34m)\u001b[0m\u001b[0;34m\u001b[0m\u001b[0;34m\u001b[0m\u001b[0m\n\u001b[0m\u001b[1;32m     17\u001b[0m   \u001b[0mplt\u001b[0m\u001b[0;34m.\u001b[0m\u001b[0mxlabel\u001b[0m\u001b[0;34m(\u001b[0m\u001b[0;34m'X'\u001b[0m\u001b[0;34m)\u001b[0m\u001b[0;34m\u001b[0m\u001b[0;34m\u001b[0m\u001b[0m\n\u001b[1;32m     18\u001b[0m   \u001b[0mplt\u001b[0m\u001b[0;34m.\u001b[0m\u001b[0mylabel\u001b[0m\u001b[0;34m(\u001b[0m\u001b[0;34m'Y'\u001b[0m\u001b[0;34m)\u001b[0m\u001b[0;34m\u001b[0m\u001b[0;34m\u001b[0m\u001b[0m\n",
                  "\u001b[0;32m/usr/local/lib/python3.10/dist-packages/mlxtend/plotting/decision_regions.py\u001b[0m in \u001b[0;36mplot_decision_regions\u001b[0;34m(X, y, clf, feature_index, filler_feature_values, filler_feature_ranges, ax, X_highlight, res, legend, hide_spines, markers, colors, scatter_kwargs, contourf_kwargs, scatter_highlight_kwargs)\u001b[0m\n\u001b[1;32m    242\u001b[0m                antialiased=True)\n\u001b[1;32m    243\u001b[0m \u001b[0;34m\u001b[0m\u001b[0m\n\u001b[0;32m--> 244\u001b[0;31m     \u001b[0max\u001b[0m\u001b[0;34m.\u001b[0m\u001b[0maxis\u001b[0m\u001b[0;34m(\u001b[0m\u001b[0mxmin\u001b[0m\u001b[0;34m=\u001b[0m\u001b[0mxx\u001b[0m\u001b[0;34m.\u001b[0m\u001b[0mmin\u001b[0m\u001b[0;34m(\u001b[0m\u001b[0;34m)\u001b[0m\u001b[0;34m,\u001b[0m \u001b[0mxmax\u001b[0m\u001b[0;34m=\u001b[0m\u001b[0mxx\u001b[0m\u001b[0;34m.\u001b[0m\u001b[0mmax\u001b[0m\u001b[0;34m(\u001b[0m\u001b[0;34m)\u001b[0m\u001b[0;34m,\u001b[0m \u001b[0my_min\u001b[0m\u001b[0;34m=\u001b[0m\u001b[0myy\u001b[0m\u001b[0;34m.\u001b[0m\u001b[0mmin\u001b[0m\u001b[0;34m(\u001b[0m\u001b[0;34m)\u001b[0m\u001b[0;34m,\u001b[0m \u001b[0my_max\u001b[0m\u001b[0;34m=\u001b[0m\u001b[0myy\u001b[0m\u001b[0;34m.\u001b[0m\u001b[0mmax\u001b[0m\u001b[0;34m(\u001b[0m\u001b[0;34m)\u001b[0m\u001b[0;34m)\u001b[0m\u001b[0;34m\u001b[0m\u001b[0;34m\u001b[0m\u001b[0m\n\u001b[0m\u001b[1;32m    245\u001b[0m \u001b[0;34m\u001b[0m\u001b[0m\n\u001b[1;32m    246\u001b[0m     \u001b[0;31m# Scatter training data samples\u001b[0m\u001b[0;34m\u001b[0m\u001b[0;34m\u001b[0m\u001b[0m\n",
                  "\u001b[0;32m/usr/local/lib/python3.10/dist-packages/matplotlib/axes/_base.py\u001b[0m in \u001b[0;36maxis\u001b[0;34m(self, arg, emit, **kwargs)\u001b[0m\n\u001b[1;32m   2125\u001b[0m             \u001b[0mself\u001b[0m\u001b[0;34m.\u001b[0m\u001b[0mset_ylim\u001b[0m\u001b[0;34m(\u001b[0m\u001b[0mymin\u001b[0m\u001b[0;34m,\u001b[0m \u001b[0mymax\u001b[0m\u001b[0;34m,\u001b[0m \u001b[0memit\u001b[0m\u001b[0;34m=\u001b[0m\u001b[0memit\u001b[0m\u001b[0;34m,\u001b[0m \u001b[0mauto\u001b[0m\u001b[0;34m=\u001b[0m\u001b[0myauto\u001b[0m\u001b[0;34m)\u001b[0m\u001b[0;34m\u001b[0m\u001b[0;34m\u001b[0m\u001b[0m\n\u001b[1;32m   2126\u001b[0m         \u001b[0;32mif\u001b[0m \u001b[0mkwargs\u001b[0m\u001b[0;34m:\u001b[0m\u001b[0;34m\u001b[0m\u001b[0;34m\u001b[0m\u001b[0m\n\u001b[0;32m-> 2127\u001b[0;31m             \u001b[0;32mraise\u001b[0m \u001b[0m_api\u001b[0m\u001b[0;34m.\u001b[0m\u001b[0mkwarg_error\u001b[0m\u001b[0;34m(\u001b[0m\u001b[0;34m\"axis\"\u001b[0m\u001b[0;34m,\u001b[0m \u001b[0mkwargs\u001b[0m\u001b[0;34m)\u001b[0m\u001b[0;34m\u001b[0m\u001b[0;34m\u001b[0m\u001b[0m\n\u001b[0m\u001b[1;32m   2128\u001b[0m         \u001b[0;32mreturn\u001b[0m \u001b[0;34m(\u001b[0m\u001b[0;34m*\u001b[0m\u001b[0mself\u001b[0m\u001b[0;34m.\u001b[0m\u001b[0mget_xlim\u001b[0m\u001b[0;34m(\u001b[0m\u001b[0;34m)\u001b[0m\u001b[0;34m,\u001b[0m \u001b[0;34m*\u001b[0m\u001b[0mself\u001b[0m\u001b[0;34m.\u001b[0m\u001b[0mget_ylim\u001b[0m\u001b[0;34m(\u001b[0m\u001b[0;34m)\u001b[0m\u001b[0;34m)\u001b[0m\u001b[0;34m\u001b[0m\u001b[0;34m\u001b[0m\u001b[0m\n\u001b[1;32m   2129\u001b[0m \u001b[0;34m\u001b[0m\u001b[0m\n",
                  "\u001b[0;31mTypeError\u001b[0m: axis() got an unexpected keyword argument 'y_min'"
                ]
              }
            ]
          }
        },
        "06e542acae914478ad6a248448fc078c": {
          "model_module": "@jupyter-widgets/base",
          "model_name": "LayoutModel",
          "model_module_version": "1.2.0",
          "state": {
            "_model_module": "@jupyter-widgets/base",
            "_model_module_version": "1.2.0",
            "_model_name": "LayoutModel",
            "_view_count": null,
            "_view_module": "@jupyter-widgets/base",
            "_view_module_version": "1.2.0",
            "_view_name": "LayoutView",
            "align_content": null,
            "align_items": null,
            "align_self": null,
            "border": null,
            "bottom": null,
            "display": null,
            "flex": null,
            "flex_flow": null,
            "grid_area": null,
            "grid_auto_columns": null,
            "grid_auto_flow": null,
            "grid_auto_rows": null,
            "grid_column": null,
            "grid_gap": null,
            "grid_row": null,
            "grid_template_areas": null,
            "grid_template_columns": null,
            "grid_template_rows": null,
            "height": null,
            "justify_content": null,
            "justify_items": null,
            "left": null,
            "margin": null,
            "max_height": null,
            "max_width": null,
            "min_height": null,
            "min_width": null,
            "object_fit": null,
            "object_position": null,
            "order": null,
            "overflow": null,
            "overflow_x": null,
            "overflow_y": null,
            "padding": null,
            "right": null,
            "top": null,
            "visibility": null,
            "width": null
          }
        },
        "319ba8ebb4284679bdf69d0bac8d4522": {
          "model_module": "@jupyter-widgets/base",
          "model_name": "LayoutModel",
          "model_module_version": "1.2.0",
          "state": {
            "_model_module": "@jupyter-widgets/base",
            "_model_module_version": "1.2.0",
            "_model_name": "LayoutModel",
            "_view_count": null,
            "_view_module": "@jupyter-widgets/base",
            "_view_module_version": "1.2.0",
            "_view_name": "LayoutView",
            "align_content": null,
            "align_items": null,
            "align_self": null,
            "border": null,
            "bottom": null,
            "display": null,
            "flex": null,
            "flex_flow": null,
            "grid_area": null,
            "grid_auto_columns": null,
            "grid_auto_flow": null,
            "grid_auto_rows": null,
            "grid_column": null,
            "grid_gap": null,
            "grid_row": null,
            "grid_template_areas": null,
            "grid_template_columns": null,
            "grid_template_rows": null,
            "height": null,
            "justify_content": null,
            "justify_items": null,
            "left": null,
            "margin": null,
            "max_height": null,
            "max_width": null,
            "min_height": null,
            "min_width": null,
            "object_fit": null,
            "object_position": null,
            "order": null,
            "overflow": null,
            "overflow_x": null,
            "overflow_y": null,
            "padding": null,
            "right": null,
            "top": null,
            "visibility": null,
            "width": null
          }
        },
        "1a0db66bf15d4793afe59f76375525bc": {
          "model_module": "@jupyter-widgets/controls",
          "model_name": "DescriptionStyleModel",
          "model_module_version": "1.5.0",
          "state": {
            "_model_module": "@jupyter-widgets/controls",
            "_model_module_version": "1.5.0",
            "_model_name": "DescriptionStyleModel",
            "_view_count": null,
            "_view_module": "@jupyter-widgets/base",
            "_view_module_version": "1.2.0",
            "_view_name": "StyleView",
            "description_width": ""
          }
        },
        "07ce4bd2599e4407ab2aaa855eab3568": {
          "model_module": "@jupyter-widgets/base",
          "model_name": "LayoutModel",
          "model_module_version": "1.2.0",
          "state": {
            "_model_module": "@jupyter-widgets/base",
            "_model_module_version": "1.2.0",
            "_model_name": "LayoutModel",
            "_view_count": null,
            "_view_module": "@jupyter-widgets/base",
            "_view_module_version": "1.2.0",
            "_view_name": "LayoutView",
            "align_content": null,
            "align_items": null,
            "align_self": null,
            "border": null,
            "bottom": null,
            "display": null,
            "flex": null,
            "flex_flow": null,
            "grid_area": null,
            "grid_auto_columns": null,
            "grid_auto_flow": null,
            "grid_auto_rows": null,
            "grid_column": null,
            "grid_gap": null,
            "grid_row": null,
            "grid_template_areas": null,
            "grid_template_columns": null,
            "grid_template_rows": null,
            "height": null,
            "justify_content": null,
            "justify_items": null,
            "left": null,
            "margin": null,
            "max_height": null,
            "max_width": null,
            "min_height": null,
            "min_width": null,
            "object_fit": null,
            "object_position": null,
            "order": null,
            "overflow": null,
            "overflow_x": null,
            "overflow_y": null,
            "padding": null,
            "right": null,
            "top": null,
            "visibility": null,
            "width": null
          }
        }
      }
    }
  },
  "nbformat": 4,
  "nbformat_minor": 0
}